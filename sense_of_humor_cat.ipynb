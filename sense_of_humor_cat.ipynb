{
 "cells": [
  {
   "cell_type": "code",
   "execution_count": 1,
   "metadata": {},
   "outputs": [
    {
     "data": {
      "application/javascript": [
       "\n",
       "            setTimeout(function() {\n",
       "                var nbb_cell_id = 1;\n",
       "                var nbb_formatted_code = \"%load_ext autoreload\\n%load_ext nb_black\\n%autoreload 2\";\n",
       "                var nbb_cells = Jupyter.notebook.get_cells();\n",
       "                for (var i = 0; i < nbb_cells.length; ++i) {\n",
       "                    if (nbb_cells[i].input_prompt_number == nbb_cell_id) {\n",
       "                        nbb_cells[i].set_text(nbb_formatted_code);\n",
       "                        break;\n",
       "                    }\n",
       "                }\n",
       "            }, 500);\n",
       "            "
      ],
      "text/plain": [
       "<IPython.core.display.Javascript object>"
      ]
     },
     "metadata": {},
     "output_type": "display_data"
    }
   ],
   "source": [
    "%load_ext autoreload\n",
    "%load_ext nb_black\n",
    "%autoreload 2"
   ]
  },
  {
   "cell_type": "code",
   "execution_count": 92,
   "metadata": {},
   "outputs": [
    {
     "data": {
      "application/javascript": [
       "\n",
       "            setTimeout(function() {\n",
       "                var nbb_cell_id = 92;\n",
       "                var nbb_formatted_code = \"import tensorflow as tf\\nimport tensorflow_addons as tfa\\nfrom tensorflow import keras\\nfrom toai.imports import *\\nfrom toai.data import DataContainer, DataBundle\\nfrom toai.data.utils import balance_df_labels\\nfrom gpu_helper import enable_gpu\\nfrom tensorflow.keras.preprocessing.sequence import pad_sequences\\nfrom tensorflow.keras.preprocessing.text import Tokenizer\\nfrom model_utils import *\";\n",
       "                var nbb_cells = Jupyter.notebook.get_cells();\n",
       "                for (var i = 0; i < nbb_cells.length; ++i) {\n",
       "                    if (nbb_cells[i].input_prompt_number == nbb_cell_id) {\n",
       "                        nbb_cells[i].set_text(nbb_formatted_code);\n",
       "                        break;\n",
       "                    }\n",
       "                }\n",
       "            }, 500);\n",
       "            "
      ],
      "text/plain": [
       "<IPython.core.display.Javascript object>"
      ]
     },
     "metadata": {},
     "output_type": "display_data"
    }
   ],
   "source": [
    "import tensorflow as tf\n",
    "import tensorflow_addons as tfa\n",
    "from tensorflow import keras\n",
    "from toai.imports import *\n",
    "from toai.data import DataContainer, DataBundle\n",
    "from toai.data.utils import balance_df_labels\n",
    "from gpu_helper import enable_gpu\n",
    "from tensorflow.keras.preprocessing.sequence import pad_sequences\n",
    "from tensorflow.keras.preprocessing.text import Tokenizer\n",
    "from model_utils import *"
   ]
  },
  {
   "cell_type": "code",
   "execution_count": 6,
   "metadata": {},
   "outputs": [
    {
     "name": "stdout",
     "output_type": "stream",
     "text": [
      "PhysicalDevice(name='/physical_device:GPU:0', device_type='GPU')\n",
      "1 Physical GPUs, 1 Logical GPUs\n"
     ]
    },
    {
     "data": {
      "application/javascript": [
       "\n",
       "            setTimeout(function() {\n",
       "                var nbb_cell_id = 6;\n",
       "                var nbb_formatted_code = \"enable_gpu()\";\n",
       "                var nbb_cells = Jupyter.notebook.get_cells();\n",
       "                for (var i = 0; i < nbb_cells.length; ++i) {\n",
       "                    if (nbb_cells[i].input_prompt_number == nbb_cell_id) {\n",
       "                        nbb_cells[i].set_text(nbb_formatted_code);\n",
       "                        break;\n",
       "                    }\n",
       "                }\n",
       "            }, 500);\n",
       "            "
      ],
      "text/plain": [
       "<IPython.core.display.Javascript object>"
      ]
     },
     "metadata": {},
     "output_type": "display_data"
    }
   ],
   "source": [
    "enable_gpu()"
   ]
  },
  {
   "cell_type": "code",
   "execution_count": 7,
   "metadata": {},
   "outputs": [
    {
     "data": {
      "application/javascript": [
       "\n",
       "            setTimeout(function() {\n",
       "                var nbb_cell_id = 7;\n",
       "                var nbb_formatted_code = \"tf.get_logger().setLevel(\\\"ERROR\\\")\";\n",
       "                var nbb_cells = Jupyter.notebook.get_cells();\n",
       "                for (var i = 0; i < nbb_cells.length; ++i) {\n",
       "                    if (nbb_cells[i].input_prompt_number == nbb_cell_id) {\n",
       "                        nbb_cells[i].set_text(nbb_formatted_code);\n",
       "                        break;\n",
       "                    }\n",
       "                }\n",
       "            }, 500);\n",
       "            "
      ],
      "text/plain": [
       "<IPython.core.display.Javascript object>"
      ]
     },
     "metadata": {},
     "output_type": "display_data"
    }
   ],
   "source": [
    "tf.get_logger().setLevel(\"ERROR\")"
   ]
  },
  {
   "cell_type": "code",
   "execution_count": 9,
   "metadata": {},
   "outputs": [
    {
     "data": {
      "application/javascript": [
       "\n",
       "            setTimeout(function() {\n",
       "                var nbb_cell_id = 9;\n",
       "                var nbb_formatted_code = \"DATA_DIR = Path(\\\"data\\\")\\nTEMP_DIR = Path(\\\"temp\\\")\\nDATA_DIR.mkdir(parents=True, exist_ok=True)\\nTEMP_DIR.mkdir(parents=True, exist_ok=True)\";\n",
       "                var nbb_cells = Jupyter.notebook.get_cells();\n",
       "                for (var i = 0; i < nbb_cells.length; ++i) {\n",
       "                    if (nbb_cells[i].input_prompt_number == nbb_cell_id) {\n",
       "                        nbb_cells[i].set_text(nbb_formatted_code);\n",
       "                        break;\n",
       "                    }\n",
       "                }\n",
       "            }, 500);\n",
       "            "
      ],
      "text/plain": [
       "<IPython.core.display.Javascript object>"
      ]
     },
     "metadata": {},
     "output_type": "display_data"
    }
   ],
   "source": [
    "DATA_DIR = Path(\"data\")\n",
    "TEMP_DIR = Path(\"temp\")\n",
    "DATA_DIR.mkdir(parents=True, exist_ok=True)\n",
    "TEMP_DIR.mkdir(parents=True, exist_ok=True)"
   ]
  },
  {
   "cell_type": "code",
   "execution_count": 10,
   "metadata": {},
   "outputs": [
    {
     "data": {
      "application/javascript": [
       "\n",
       "            setTimeout(function() {\n",
       "                var nbb_cell_id = 10;\n",
       "                var nbb_formatted_code = \"df = pd.read_json(DATA_DIR / \\\"stupidstuff.json\\\")\";\n",
       "                var nbb_cells = Jupyter.notebook.get_cells();\n",
       "                for (var i = 0; i < nbb_cells.length; ++i) {\n",
       "                    if (nbb_cells[i].input_prompt_number == nbb_cell_id) {\n",
       "                        nbb_cells[i].set_text(nbb_formatted_code);\n",
       "                        break;\n",
       "                    }\n",
       "                }\n",
       "            }, 500);\n",
       "            "
      ],
      "text/plain": [
       "<IPython.core.display.Javascript object>"
      ]
     },
     "metadata": {},
     "output_type": "display_data"
    }
   ],
   "source": [
    "df = pd.read_json(DATA_DIR / \"stupidstuff.json\")"
   ]
  },
  {
   "cell_type": "code",
   "execution_count": 11,
   "metadata": {},
   "outputs": [
    {
     "data": {
      "text/html": [
       "<div>\n",
       "<style scoped>\n",
       "    .dataframe tbody tr th:only-of-type {\n",
       "        vertical-align: middle;\n",
       "    }\n",
       "\n",
       "    .dataframe tbody tr th {\n",
       "        vertical-align: top;\n",
       "    }\n",
       "\n",
       "    .dataframe thead th {\n",
       "        text-align: right;\n",
       "    }\n",
       "</style>\n",
       "<table border=\"1\" class=\"dataframe\">\n",
       "  <thead>\n",
       "    <tr style=\"text-align: right;\">\n",
       "      <th></th>\n",
       "      <th>body</th>\n",
       "      <th>category</th>\n",
       "      <th>id</th>\n",
       "      <th>rating</th>\n",
       "    </tr>\n",
       "  </thead>\n",
       "  <tbody>\n",
       "    <tr>\n",
       "      <td>0</td>\n",
       "      <td>A blackjack dealer and a player with a thirtee...</td>\n",
       "      <td>Children</td>\n",
       "      <td>1</td>\n",
       "      <td>2.63</td>\n",
       "    </tr>\n",
       "    <tr>\n",
       "      <td>1</td>\n",
       "      <td>At a dinner party, several of the guests were ...</td>\n",
       "      <td>Blonde Jokes</td>\n",
       "      <td>2</td>\n",
       "      <td>2.57</td>\n",
       "    </tr>\n",
       "    <tr>\n",
       "      <td>2</td>\n",
       "      <td>One day this cop pulls over a blonde for speed...</td>\n",
       "      <td>Blonde Jokes</td>\n",
       "      <td>3</td>\n",
       "      <td>3.09</td>\n",
       "    </tr>\n",
       "    <tr>\n",
       "      <td>3</td>\n",
       "      <td>Three women are about to be executed for crime...</td>\n",
       "      <td>Blonde Jokes</td>\n",
       "      <td>4</td>\n",
       "      <td>4.10</td>\n",
       "    </tr>\n",
       "    <tr>\n",
       "      <td>4</td>\n",
       "      <td>A girl came skipping home FROM school one day....</td>\n",
       "      <td>Blonde Jokes</td>\n",
       "      <td>5</td>\n",
       "      <td>4.30</td>\n",
       "    </tr>\n",
       "  </tbody>\n",
       "</table>\n",
       "</div>"
      ],
      "text/plain": [
       "                                                body      category  id  rating\n",
       "0  A blackjack dealer and a player with a thirtee...      Children   1    2.63\n",
       "1  At a dinner party, several of the guests were ...  Blonde Jokes   2    2.57\n",
       "2  One day this cop pulls over a blonde for speed...  Blonde Jokes   3    3.09\n",
       "3  Three women are about to be executed for crime...  Blonde Jokes   4    4.10\n",
       "4  A girl came skipping home FROM school one day....  Blonde Jokes   5    4.30"
      ]
     },
     "execution_count": 11,
     "metadata": {},
     "output_type": "execute_result"
    },
    {
     "data": {
      "application/javascript": [
       "\n",
       "            setTimeout(function() {\n",
       "                var nbb_cell_id = 11;\n",
       "                var nbb_formatted_code = \"df.head()\";\n",
       "                var nbb_cells = Jupyter.notebook.get_cells();\n",
       "                for (var i = 0; i < nbb_cells.length; ++i) {\n",
       "                    if (nbb_cells[i].input_prompt_number == nbb_cell_id) {\n",
       "                        nbb_cells[i].set_text(nbb_formatted_code);\n",
       "                        break;\n",
       "                    }\n",
       "                }\n",
       "            }, 500);\n",
       "            "
      ],
      "text/plain": [
       "<IPython.core.display.Javascript object>"
      ]
     },
     "metadata": {},
     "output_type": "display_data"
    }
   ],
   "source": [
    "df.head()"
   ]
  },
  {
   "cell_type": "code",
   "execution_count": 12,
   "metadata": {},
   "outputs": [
    {
     "name": "stdout",
     "output_type": "stream",
     "text": [
      "<class 'pandas.core.frame.DataFrame'>\n",
      "RangeIndex: 3773 entries, 0 to 3772\n",
      "Data columns (total 4 columns):\n",
      "body        3773 non-null object\n",
      "category    3773 non-null object\n",
      "id          3773 non-null int64\n",
      "rating      3773 non-null float64\n",
      "dtypes: float64(1), int64(1), object(2)\n",
      "memory usage: 118.0+ KB\n"
     ]
    },
    {
     "data": {
      "application/javascript": [
       "\n",
       "            setTimeout(function() {\n",
       "                var nbb_cell_id = 12;\n",
       "                var nbb_formatted_code = \"df.info()\";\n",
       "                var nbb_cells = Jupyter.notebook.get_cells();\n",
       "                for (var i = 0; i < nbb_cells.length; ++i) {\n",
       "                    if (nbb_cells[i].input_prompt_number == nbb_cell_id) {\n",
       "                        nbb_cells[i].set_text(nbb_formatted_code);\n",
       "                        break;\n",
       "                    }\n",
       "                }\n",
       "            }, 500);\n",
       "            "
      ],
      "text/plain": [
       "<IPython.core.display.Javascript object>"
      ]
     },
     "metadata": {},
     "output_type": "display_data"
    }
   ],
   "source": [
    "df.info()"
   ]
  },
  {
   "cell_type": "code",
   "execution_count": 13,
   "metadata": {},
   "outputs": [
    {
     "data": {
      "text/html": [
       "<div>\n",
       "<style scoped>\n",
       "    .dataframe tbody tr th:only-of-type {\n",
       "        vertical-align: middle;\n",
       "    }\n",
       "\n",
       "    .dataframe tbody tr th {\n",
       "        vertical-align: top;\n",
       "    }\n",
       "\n",
       "    .dataframe thead th {\n",
       "        text-align: right;\n",
       "    }\n",
       "</style>\n",
       "<table border=\"1\" class=\"dataframe\">\n",
       "  <thead>\n",
       "    <tr style=\"text-align: right;\">\n",
       "      <th></th>\n",
       "      <th>body</th>\n",
       "      <th>category</th>\n",
       "      <th>id</th>\n",
       "      <th>rating</th>\n",
       "    </tr>\n",
       "  </thead>\n",
       "  <tbody>\n",
       "    <tr>\n",
       "      <td>1728</td>\n",
       "      <td></td>\n",
       "      <td>Science</td>\n",
       "      <td>1729</td>\n",
       "      <td>4.5</td>\n",
       "    </tr>\n",
       "    <tr>\n",
       "      <td>1937</td>\n",
       "      <td></td>\n",
       "      <td>Miscellaneous</td>\n",
       "      <td>1938</td>\n",
       "      <td>3.0</td>\n",
       "    </tr>\n",
       "    <tr>\n",
       "      <td>2949</td>\n",
       "      <td></td>\n",
       "      <td>Animals</td>\n",
       "      <td>2950</td>\n",
       "      <td>2.0</td>\n",
       "    </tr>\n",
       "    <tr>\n",
       "      <td>2952</td>\n",
       "      <td></td>\n",
       "      <td>Animals</td>\n",
       "      <td>2953</td>\n",
       "      <td>4.0</td>\n",
       "    </tr>\n",
       "    <tr>\n",
       "      <td>2953</td>\n",
       "      <td></td>\n",
       "      <td>Animals</td>\n",
       "      <td>2954</td>\n",
       "      <td>5.0</td>\n",
       "    </tr>\n",
       "    <tr>\n",
       "      <td>...</td>\n",
       "      <td>...</td>\n",
       "      <td>...</td>\n",
       "      <td>...</td>\n",
       "      <td>...</td>\n",
       "    </tr>\n",
       "    <tr>\n",
       "      <td>3763</td>\n",
       "      <td></td>\n",
       "      <td>Miscellaneous</td>\n",
       "      <td>3764</td>\n",
       "      <td>3.0</td>\n",
       "    </tr>\n",
       "    <tr>\n",
       "      <td>3766</td>\n",
       "      <td></td>\n",
       "      <td>Miscellaneous</td>\n",
       "      <td>3767</td>\n",
       "      <td>4.0</td>\n",
       "    </tr>\n",
       "    <tr>\n",
       "      <td>3767</td>\n",
       "      <td></td>\n",
       "      <td>Miscellaneous</td>\n",
       "      <td>3768</td>\n",
       "      <td>3.0</td>\n",
       "    </tr>\n",
       "    <tr>\n",
       "      <td>3768</td>\n",
       "      <td></td>\n",
       "      <td>Miscellaneous</td>\n",
       "      <td>3769</td>\n",
       "      <td>5.0</td>\n",
       "    </tr>\n",
       "    <tr>\n",
       "      <td>3770</td>\n",
       "      <td></td>\n",
       "      <td>Miscellaneous</td>\n",
       "      <td>3771</td>\n",
       "      <td>1.0</td>\n",
       "    </tr>\n",
       "  </tbody>\n",
       "</table>\n",
       "<p>573 rows × 4 columns</p>\n",
       "</div>"
      ],
      "text/plain": [
       "     body       category    id  rating\n",
       "1728             Science  1729     4.5\n",
       "1937       Miscellaneous  1938     3.0\n",
       "2949             Animals  2950     2.0\n",
       "2952             Animals  2953     4.0\n",
       "2953             Animals  2954     5.0\n",
       "...   ...            ...   ...     ...\n",
       "3763       Miscellaneous  3764     3.0\n",
       "3766       Miscellaneous  3767     4.0\n",
       "3767       Miscellaneous  3768     3.0\n",
       "3768       Miscellaneous  3769     5.0\n",
       "3770       Miscellaneous  3771     1.0\n",
       "\n",
       "[573 rows x 4 columns]"
      ]
     },
     "execution_count": 13,
     "metadata": {},
     "output_type": "execute_result"
    },
    {
     "data": {
      "application/javascript": [
       "\n",
       "            setTimeout(function() {\n",
       "                var nbb_cell_id = 13;\n",
       "                var nbb_formatted_code = \"df[df[\\\"body\\\"] == \\\"\\\"]\";\n",
       "                var nbb_cells = Jupyter.notebook.get_cells();\n",
       "                for (var i = 0; i < nbb_cells.length; ++i) {\n",
       "                    if (nbb_cells[i].input_prompt_number == nbb_cell_id) {\n",
       "                        nbb_cells[i].set_text(nbb_formatted_code);\n",
       "                        break;\n",
       "                    }\n",
       "                }\n",
       "            }, 500);\n",
       "            "
      ],
      "text/plain": [
       "<IPython.core.display.Javascript object>"
      ]
     },
     "metadata": {},
     "output_type": "display_data"
    }
   ],
   "source": [
    "df[df[\"body\"] == \"\"]"
   ]
  },
  {
   "cell_type": "code",
   "execution_count": 14,
   "metadata": {},
   "outputs": [
    {
     "data": {
      "application/javascript": [
       "\n",
       "            setTimeout(function() {\n",
       "                var nbb_cell_id = 14;\n",
       "                var nbb_formatted_code = \"df = df.loc[df[\\\"body\\\"] != \\\"\\\", :].reset_index(drop=True)\";\n",
       "                var nbb_cells = Jupyter.notebook.get_cells();\n",
       "                for (var i = 0; i < nbb_cells.length; ++i) {\n",
       "                    if (nbb_cells[i].input_prompt_number == nbb_cell_id) {\n",
       "                        nbb_cells[i].set_text(nbb_formatted_code);\n",
       "                        break;\n",
       "                    }\n",
       "                }\n",
       "            }, 500);\n",
       "            "
      ],
      "text/plain": [
       "<IPython.core.display.Javascript object>"
      ]
     },
     "metadata": {},
     "output_type": "display_data"
    }
   ],
   "source": [
    "df = df.loc[df[\"body\"] != \"\", :].reset_index(drop=True)"
   ]
  },
  {
   "cell_type": "code",
   "execution_count": 15,
   "metadata": {
    "scrolled": true
   },
   "outputs": [
    {
     "name": "stdout",
     "output_type": "stream",
     "text": [
      "<class 'pandas.core.frame.DataFrame'>\n",
      "RangeIndex: 3200 entries, 0 to 3199\n",
      "Data columns (total 4 columns):\n",
      "body        3200 non-null object\n",
      "category    3200 non-null object\n",
      "id          3200 non-null int64\n",
      "rating      3200 non-null float64\n",
      "dtypes: float64(1), int64(1), object(2)\n",
      "memory usage: 100.1+ KB\n"
     ]
    },
    {
     "data": {
      "application/javascript": [
       "\n",
       "            setTimeout(function() {\n",
       "                var nbb_cell_id = 15;\n",
       "                var nbb_formatted_code = \"df.info()\";\n",
       "                var nbb_cells = Jupyter.notebook.get_cells();\n",
       "                for (var i = 0; i < nbb_cells.length; ++i) {\n",
       "                    if (nbb_cells[i].input_prompt_number == nbb_cell_id) {\n",
       "                        nbb_cells[i].set_text(nbb_formatted_code);\n",
       "                        break;\n",
       "                    }\n",
       "                }\n",
       "            }, 500);\n",
       "            "
      ],
      "text/plain": [
       "<IPython.core.display.Javascript object>"
      ]
     },
     "metadata": {},
     "output_type": "display_data"
    }
   ],
   "source": [
    "df.info()"
   ]
  },
  {
   "cell_type": "code",
   "execution_count": 31,
   "metadata": {},
   "outputs": [
    {
     "name": "stdout",
     "output_type": "stream",
     "text": [
      "Bill Gates dies and goes to hell. Satan greets him, \"Welcome Mr. Gates, we've been waiting for you. This will be your home for all eternity. You've been selfish, greedy and a big liar all your life. Now, since you've got me in a good mood, I'll be generous and give you a choice of three places in which you'll be locked up forever.\" Satan takes Bill to a huge lake of fire in which millions of poor souls are tormented and tortured. He then takes him to a massive coliseum where thousands of people are chased about and devoured by starving lions. Finally, he takes Bill to a tiny room in which there is a beautiful young blonde with an alluring look on her face, sitting at a table on which there is a bottle of the finest wine. To Bill's delight, he sees a PC in the corner. Without hesitation, Bill says \"I'll take this option.\" \"Fine,\" says Satan, allowing Bill to enter the room. Satan locks the room after Bill. As he turns around, he bumps into Lucifer. \"That was Bill Gates!\" cried Lucifer. \"Why did you give him the best place of all?\" \"That's what everyone thinks,\" snickered Satan. \"The bottle has a hole in it and the girl hasn't.\" \"What about the PC?\" \"It's got Windows 95!\" laughed Satan. \"And it's missing three keys.\" \"Which three?\" \"Control, Alt and Delete.\"\n"
     ]
    },
    {
     "data": {
      "application/javascript": [
       "\n",
       "            setTimeout(function() {\n",
       "                var nbb_cell_id = 31;\n",
       "                var nbb_formatted_code = \"print(df.sort_values(\\\"rating\\\", ascending=False)[\\\"body\\\"].iloc[5])\";\n",
       "                var nbb_cells = Jupyter.notebook.get_cells();\n",
       "                for (var i = 0; i < nbb_cells.length; ++i) {\n",
       "                    if (nbb_cells[i].input_prompt_number == nbb_cell_id) {\n",
       "                        nbb_cells[i].set_text(nbb_formatted_code);\n",
       "                        break;\n",
       "                    }\n",
       "                }\n",
       "            }, 500);\n",
       "            "
      ],
      "text/plain": [
       "<IPython.core.display.Javascript object>"
      ]
     },
     "metadata": {},
     "output_type": "display_data"
    }
   ],
   "source": [
    "print(df.sort_values('rating', ascending=False)['body'].iloc[5])"
   ]
  },
  {
   "cell_type": "code",
   "execution_count": 32,
   "metadata": {},
   "outputs": [
    {
     "data": {
      "application/javascript": [
       "\n",
       "            setTimeout(function() {\n",
       "                var nbb_cell_id = 32;\n",
       "                var nbb_formatted_code = \"EMBEDDING_DIM = 200\\nMAX_SEQUENCE_LENGTH = 500\\nMAX_NUM_WORDS = 10000\\nVALIDATION_SPLIT = 0.2\\nBATCH_SIZE = 32\";\n",
       "                var nbb_cells = Jupyter.notebook.get_cells();\n",
       "                for (var i = 0; i < nbb_cells.length; ++i) {\n",
       "                    if (nbb_cells[i].input_prompt_number == nbb_cell_id) {\n",
       "                        nbb_cells[i].set_text(nbb_formatted_code);\n",
       "                        break;\n",
       "                    }\n",
       "                }\n",
       "            }, 500);\n",
       "            "
      ],
      "text/plain": [
       "<IPython.core.display.Javascript object>"
      ]
     },
     "metadata": {},
     "output_type": "display_data"
    }
   ],
   "source": [
    "EMBEDDING_DIM = 200\n",
    "MAX_SEQUENCE_LENGTH = 500\n",
    "MAX_NUM_WORDS = 10000\n",
    "VALIDATION_SPLIT = 0.2\n",
    "BATCH_SIZE = 32"
   ]
  },
  {
   "cell_type": "code",
   "execution_count": 33,
   "metadata": {},
   "outputs": [
    {
     "data": {
      "text/html": [
       "<div>\n",
       "<style scoped>\n",
       "    .dataframe tbody tr th:only-of-type {\n",
       "        vertical-align: middle;\n",
       "    }\n",
       "\n",
       "    .dataframe tbody tr th {\n",
       "        vertical-align: top;\n",
       "    }\n",
       "\n",
       "    .dataframe thead th {\n",
       "        text-align: right;\n",
       "    }\n",
       "</style>\n",
       "<table border=\"1\" class=\"dataframe\">\n",
       "  <thead>\n",
       "    <tr style=\"text-align: right;\">\n",
       "      <th></th>\n",
       "      <th>body</th>\n",
       "      <th>category</th>\n",
       "      <th>id</th>\n",
       "      <th>rating</th>\n",
       "    </tr>\n",
       "  </thead>\n",
       "  <tbody>\n",
       "    <tr>\n",
       "      <td>0</td>\n",
       "      <td>A blackjack dealer and a player with a thirtee...</td>\n",
       "      <td>Children</td>\n",
       "      <td>1</td>\n",
       "      <td>2.63</td>\n",
       "    </tr>\n",
       "    <tr>\n",
       "      <td>1</td>\n",
       "      <td>At a dinner party, several of the guests were ...</td>\n",
       "      <td>Blonde Jokes</td>\n",
       "      <td>2</td>\n",
       "      <td>2.57</td>\n",
       "    </tr>\n",
       "    <tr>\n",
       "      <td>2</td>\n",
       "      <td>One day this cop pulls over a blonde for speed...</td>\n",
       "      <td>Blonde Jokes</td>\n",
       "      <td>3</td>\n",
       "      <td>3.09</td>\n",
       "    </tr>\n",
       "    <tr>\n",
       "      <td>3</td>\n",
       "      <td>Three women are about to be executed for crime...</td>\n",
       "      <td>Blonde Jokes</td>\n",
       "      <td>4</td>\n",
       "      <td>4.10</td>\n",
       "    </tr>\n",
       "    <tr>\n",
       "      <td>4</td>\n",
       "      <td>A girl came skipping home FROM school one day....</td>\n",
       "      <td>Blonde Jokes</td>\n",
       "      <td>5</td>\n",
       "      <td>4.30</td>\n",
       "    </tr>\n",
       "  </tbody>\n",
       "</table>\n",
       "</div>"
      ],
      "text/plain": [
       "                                                body      category  id  rating\n",
       "0  A blackjack dealer and a player with a thirtee...      Children   1    2.63\n",
       "1  At a dinner party, several of the guests were ...  Blonde Jokes   2    2.57\n",
       "2  One day this cop pulls over a blonde for speed...  Blonde Jokes   3    3.09\n",
       "3  Three women are about to be executed for crime...  Blonde Jokes   4    4.10\n",
       "4  A girl came skipping home FROM school one day....  Blonde Jokes   5    4.30"
      ]
     },
     "execution_count": 33,
     "metadata": {},
     "output_type": "execute_result"
    },
    {
     "data": {
      "application/javascript": [
       "\n",
       "            setTimeout(function() {\n",
       "                var nbb_cell_id = 33;\n",
       "                var nbb_formatted_code = \"df.head()\";\n",
       "                var nbb_cells = Jupyter.notebook.get_cells();\n",
       "                for (var i = 0; i < nbb_cells.length; ++i) {\n",
       "                    if (nbb_cells[i].input_prompt_number == nbb_cell_id) {\n",
       "                        nbb_cells[i].set_text(nbb_formatted_code);\n",
       "                        break;\n",
       "                    }\n",
       "                }\n",
       "            }, 500);\n",
       "            "
      ],
      "text/plain": [
       "<IPython.core.display.Javascript object>"
      ]
     },
     "metadata": {},
     "output_type": "display_data"
    }
   ],
   "source": [
    "df.head()"
   ]
  },
  {
   "cell_type": "code",
   "execution_count": 34,
   "metadata": {},
   "outputs": [
    {
     "data": {
      "text/plain": [
       "Miscellaneous      0.231875\n",
       "Insults            0.061250\n",
       "Men                0.059375\n",
       "Women              0.045000\n",
       "Yo Mama            0.044062\n",
       "Light Bulbs        0.037500\n",
       "Religious          0.036562\n",
       "Political          0.035625\n",
       "Blonde Jokes       0.034688\n",
       "Heaven and Hell    0.028438\n",
       "Family, Parents    0.026250\n",
       "Money              0.025625\n",
       "Medical            0.024063\n",
       "Animals            0.023125\n",
       "Bar Jokes          0.020625\n",
       "Children           0.020313\n",
       "Computers          0.020000\n",
       "Police Jokes       0.017188\n",
       "Sex                0.016875\n",
       "Lawyers            0.015625\n",
       "Love & Romance     0.015000\n",
       "Military           0.014687\n",
       "Crazy Jokes        0.013437\n",
       "Business           0.012812\n",
       "Marriage           0.011562\n",
       "Sports             0.011562\n",
       "Aviation           0.010937\n",
       "Holidays           0.010000\n",
       "Idiots             0.009687\n",
       "Farmers            0.009062\n",
       "Redneck            0.008438\n",
       "School             0.008438\n",
       "Old Age            0.006875\n",
       "Office Jokes       0.005625\n",
       "Science            0.005313\n",
       "Deep Thoughts      0.004375\n",
       "Food Jokes         0.004063\n",
       "Blind Jokes        0.003438\n",
       "State Jokes        0.003125\n",
       "Music              0.002812\n",
       "Ethnic Jokes       0.002500\n",
       "One Liners         0.001875\n",
       "English            0.000313\n",
       "Name: category, dtype: float64"
      ]
     },
     "execution_count": 34,
     "metadata": {},
     "output_type": "execute_result"
    },
    {
     "data": {
      "application/javascript": [
       "\n",
       "            setTimeout(function() {\n",
       "                var nbb_cell_id = 34;\n",
       "                var nbb_formatted_code = \"df[\\\"category\\\"].value_counts(normalize=True)\";\n",
       "                var nbb_cells = Jupyter.notebook.get_cells();\n",
       "                for (var i = 0; i < nbb_cells.length; ++i) {\n",
       "                    if (nbb_cells[i].input_prompt_number == nbb_cell_id) {\n",
       "                        nbb_cells[i].set_text(nbb_formatted_code);\n",
       "                        break;\n",
       "                    }\n",
       "                }\n",
       "            }, 500);\n",
       "            "
      ],
      "text/plain": [
       "<IPython.core.display.Javascript object>"
      ]
     },
     "metadata": {},
     "output_type": "display_data"
    }
   ],
   "source": [
    "df[\"category\"].value_counts(normalize=True)"
   ]
  },
  {
   "cell_type": "code",
   "execution_count": 35,
   "metadata": {},
   "outputs": [
    {
     "data": {
      "application/javascript": [
       "\n",
       "            setTimeout(function() {\n",
       "                var nbb_cell_id = 35;\n",
       "                var nbb_formatted_code = \"THRESHOLD = 0.02\\ncounts = df[\\\"category\\\"].value_counts(normalize=True)\\ndf = df.loc[df[\\\"category\\\"].isin(counts[counts >= THRESHOLD].index), :].reset_index(\\n    drop=True\\n)\";\n",
       "                var nbb_cells = Jupyter.notebook.get_cells();\n",
       "                for (var i = 0; i < nbb_cells.length; ++i) {\n",
       "                    if (nbb_cells[i].input_prompt_number == nbb_cell_id) {\n",
       "                        nbb_cells[i].set_text(nbb_formatted_code);\n",
       "                        break;\n",
       "                    }\n",
       "                }\n",
       "            }, 500);\n",
       "            "
      ],
      "text/plain": [
       "<IPython.core.display.Javascript object>"
      ]
     },
     "metadata": {},
     "output_type": "display_data"
    }
   ],
   "source": [
    "THRESHOLD = 0.02\n",
    "counts = df[\"category\"].value_counts(normalize=True)\n",
    "df = df.loc[df[\"category\"].isin(counts[counts >= THRESHOLD].index), :].reset_index(\n",
    "    drop=True\n",
    ")"
   ]
  },
  {
   "cell_type": "code",
   "execution_count": 122,
   "metadata": {
    "scrolled": true
   },
   "outputs": [
    {
     "data": {
      "image/png": "[encoded data removed]",
      "text/plain": [
       "<Figure size 432x288 with 1 Axes>"
      ]
     },
     "metadata": {
      "needs_background": "light"
     },
     "output_type": "display_data"
    },
    {
     "data": {
      "application/javascript": [
       "\n",
       "            setTimeout(function() {\n",
       "                var nbb_cell_id = 122;\n",
       "                var nbb_formatted_code = \"sns.countplot(x=\\\"category\\\", data=df)\";\n",
       "                var nbb_cells = Jupyter.notebook.get_cells();\n",
       "                for (var i = 0; i < nbb_cells.length; ++i) {\n",
       "                    if (nbb_cells[i].input_prompt_number == nbb_cell_id) {\n",
       "                        nbb_cells[i].set_text(nbb_formatted_code);\n",
       "                        break;\n",
       "                    }\n",
       "                }\n",
       "            }, 500);\n",
       "            "
      ],
      "text/plain": [
       "<IPython.core.display.Javascript object>"
      ]
     },
     "metadata": {},
     "output_type": "display_data"
    }
   ],
   "source": [
    "sns.countplot(x='category', data=df);"
   ]
  },
  {
   "cell_type": "code",
   "execution_count": 123,
   "metadata": {},
   "outputs": [
    {
     "data": {
      "application/javascript": [
       "\n",
       "            setTimeout(function() {\n",
       "                var nbb_cell_id = 123;\n",
       "                var nbb_formatted_code = \"def make_category_map(labels):\\n    return {x: i for i, x in enumerate(set(labels))}\";\n",
       "                var nbb_cells = Jupyter.notebook.get_cells();\n",
       "                for (var i = 0; i < nbb_cells.length; ++i) {\n",
       "                    if (nbb_cells[i].input_prompt_number == nbb_cell_id) {\n",
       "                        nbb_cells[i].set_text(nbb_formatted_code);\n",
       "                        break;\n",
       "                    }\n",
       "                }\n",
       "            }, 500);\n",
       "            "
      ],
      "text/plain": [
       "<IPython.core.display.Javascript object>"
      ]
     },
     "metadata": {},
     "output_type": "display_data"
    }
   ],
   "source": [
    "def make_category_map(labels):\n",
    "    return {x: i for i, x in enumerate(set(labels))}"
   ]
  },
  {
   "cell_type": "code",
   "execution_count": 124,
   "metadata": {},
   "outputs": [
    {
     "data": {
      "text/plain": [
       "{0: 0,\n",
       " 1: 1,\n",
       " 2: 2,\n",
       " 3: 3,\n",
       " 4: 4,\n",
       " 5: 5,\n",
       " 6: 6,\n",
       " 7: 7,\n",
       " 8: 8,\n",
       " 9: 9,\n",
       " 10: 10,\n",
       " 11: 11,\n",
       " 12: 12,\n",
       " 13: 13,\n",
       " 14: 14,\n",
       " 15: 15,\n",
       " 16: 16}"
      ]
     },
     "execution_count": 124,
     "metadata": {},
     "output_type": "execute_result"
    },
    {
     "data": {
      "application/javascript": [
       "\n",
       "            setTimeout(function() {\n",
       "                var nbb_cell_id = 124;\n",
       "                var nbb_formatted_code = \"category_map = make_category_map(df[\\\"category\\\"])\\ncategory_map\";\n",
       "                var nbb_cells = Jupyter.notebook.get_cells();\n",
       "                for (var i = 0; i < nbb_cells.length; ++i) {\n",
       "                    if (nbb_cells[i].input_prompt_number == nbb_cell_id) {\n",
       "                        nbb_cells[i].set_text(nbb_formatted_code);\n",
       "                        break;\n",
       "                    }\n",
       "                }\n",
       "            }, 500);\n",
       "            "
      ],
      "text/plain": [
       "<IPython.core.display.Javascript object>"
      ]
     },
     "metadata": {},
     "output_type": "display_data"
    }
   ],
   "source": [
    "category_map = make_category_map(df[\"category\"])\n",
    "category_map"
   ]
  },
  {
   "cell_type": "code",
   "execution_count": 125,
   "metadata": {},
   "outputs": [
    {
     "data": {
      "text/plain": [
       "17"
      ]
     },
     "execution_count": 125,
     "metadata": {},
     "output_type": "execute_result"
    },
    {
     "data": {
      "application/javascript": [
       "\n",
       "            setTimeout(function() {\n",
       "                var nbb_cell_id = 125;\n",
       "                var nbb_formatted_code = \"n_categories = len(category_map)\\nn_categories\";\n",
       "                var nbb_cells = Jupyter.notebook.get_cells();\n",
       "                for (var i = 0; i < nbb_cells.length; ++i) {\n",
       "                    if (nbb_cells[i].input_prompt_number == nbb_cell_id) {\n",
       "                        nbb_cells[i].set_text(nbb_formatted_code);\n",
       "                        break;\n",
       "                    }\n",
       "                }\n",
       "            }, 500);\n",
       "            "
      ],
      "text/plain": [
       "<IPython.core.display.Javascript object>"
      ]
     },
     "metadata": {},
     "output_type": "display_data"
    }
   ],
   "source": [
    "n_categories = len(category_map)\n",
    "n_categories"
   ]
  },
  {
   "cell_type": "code",
   "execution_count": 126,
   "metadata": {},
   "outputs": [
    {
     "data": {
      "application/javascript": [
       "\n",
       "            setTimeout(function() {\n",
       "                var nbb_cell_id = 126;\n",
       "                var nbb_formatted_code = \"df[\\\"category\\\"] = df[\\\"category\\\"].map(category_map)\";\n",
       "                var nbb_cells = Jupyter.notebook.get_cells();\n",
       "                for (var i = 0; i < nbb_cells.length; ++i) {\n",
       "                    if (nbb_cells[i].input_prompt_number == nbb_cell_id) {\n",
       "                        nbb_cells[i].set_text(nbb_formatted_code);\n",
       "                        break;\n",
       "                    }\n",
       "                }\n",
       "            }, 500);\n",
       "            "
      ],
      "text/plain": [
       "<IPython.core.display.Javascript object>"
      ]
     },
     "metadata": {},
     "output_type": "display_data"
    }
   ],
   "source": [
    "df[\"category\"] = df[\"category\"].map(category_map)"
   ]
  },
  {
   "cell_type": "code",
   "execution_count": 127,
   "metadata": {},
   "outputs": [
    {
     "data": {
      "text/plain": [
       "0    15\n",
       "1     6\n",
       "2     6\n",
       "3     6\n",
       "4     6\n",
       "Name: category, dtype: int64"
      ]
     },
     "execution_count": 127,
     "metadata": {},
     "output_type": "execute_result"
    },
    {
     "data": {
      "application/javascript": [
       "\n",
       "            setTimeout(function() {\n",
       "                var nbb_cell_id = 127;\n",
       "                var nbb_formatted_code = \"df[\\\"category\\\"].head()\";\n",
       "                var nbb_cells = Jupyter.notebook.get_cells();\n",
       "                for (var i = 0; i < nbb_cells.length; ++i) {\n",
       "                    if (nbb_cells[i].input_prompt_number == nbb_cell_id) {\n",
       "                        nbb_cells[i].set_text(nbb_formatted_code);\n",
       "                        break;\n",
       "                    }\n",
       "                }\n",
       "            }, 500);\n",
       "            "
      ],
      "text/plain": [
       "<IPython.core.display.Javascript object>"
      ]
     },
     "metadata": {},
     "output_type": "display_data"
    }
   ],
   "source": [
    "df[\"category\"].head()"
   ]
  },
  {
   "cell_type": "code",
   "execution_count": 128,
   "metadata": {},
   "outputs": [
    {
     "data": {
      "application/javascript": [
       "\n",
       "            setTimeout(function() {\n",
       "                var nbb_cell_id = 128;\n",
       "                var nbb_formatted_code = \"data_container = DataContainer(\\n    *DataBundle.split(\\n        data_bundle=DataBundle.from_dataframe(\\n            dataframe=df, x_col=\\\"body\\\", y_col=\\\"category\\\"\\n        ),\\n        fracs=[0.8, 0.1, 0.1],\\n    )\\n)\";\n",
       "                var nbb_cells = Jupyter.notebook.get_cells();\n",
       "                for (var i = 0; i < nbb_cells.length; ++i) {\n",
       "                    if (nbb_cells[i].input_prompt_number == nbb_cell_id) {\n",
       "                        nbb_cells[i].set_text(nbb_formatted_code);\n",
       "                        break;\n",
       "                    }\n",
       "                }\n",
       "            }, 500);\n",
       "            "
      ],
      "text/plain": [
       "<IPython.core.display.Javascript object>"
      ]
     },
     "metadata": {},
     "output_type": "display_data"
    }
   ],
   "source": [
    "data_container = DataContainer(\n",
    "    *DataBundle.split(\n",
    "        data_bundle=DataBundle.from_dataframe(\n",
    "            dataframe=df, x_col=\"body\", y_col=\"category\"\n",
    "        ),\n",
    "        fracs=[0.8, 0.1, 0.1],\n",
    "    )\n",
    ")"
   ]
  },
  {
   "cell_type": "code",
   "execution_count": 129,
   "metadata": {
    "scrolled": true
   },
   "outputs": [
    {
     "data": {
      "text/plain": [
       "(1983, 248, 247)"
      ]
     },
     "execution_count": 129,
     "metadata": {},
     "output_type": "execute_result"
    },
    {
     "data": {
      "application/javascript": [
       "\n",
       "            setTimeout(function() {\n",
       "                var nbb_cell_id = 129;\n",
       "                var nbb_formatted_code = \"len(data_container.train), len(data_container.validation), len(data_container.test)\";\n",
       "                var nbb_cells = Jupyter.notebook.get_cells();\n",
       "                for (var i = 0; i < nbb_cells.length; ++i) {\n",
       "                    if (nbb_cells[i].input_prompt_number == nbb_cell_id) {\n",
       "                        nbb_cells[i].set_text(nbb_formatted_code);\n",
       "                        break;\n",
       "                    }\n",
       "                }\n",
       "            }, 500);\n",
       "            "
      ],
      "text/plain": [
       "<IPython.core.display.Javascript object>"
      ]
     },
     "metadata": {},
     "output_type": "display_data"
    }
   ],
   "source": [
    "len(data_container.train), len(data_container.validation), len(data_container.test)"
   ]
  },
  {
   "cell_type": "code",
   "execution_count": 130,
   "metadata": {},
   "outputs": [
    {
     "data": {
      "application/javascript": [
       "\n",
       "            setTimeout(function() {\n",
       "                var nbb_cell_id = 130;\n",
       "                var nbb_formatted_code = \"# TODO remove\\nclass_weights = sk.utils.class_weight.compute_class_weight(\\n    \\\"balanced\\\", np.unique(data_container.train.y), data_container.train.y\\n)\";\n",
       "                var nbb_cells = Jupyter.notebook.get_cells();\n",
       "                for (var i = 0; i < nbb_cells.length; ++i) {\n",
       "                    if (nbb_cells[i].input_prompt_number == nbb_cell_id) {\n",
       "                        nbb_cells[i].set_text(nbb_formatted_code);\n",
       "                        break;\n",
       "                    }\n",
       "                }\n",
       "            }, 500);\n",
       "            "
      ],
      "text/plain": [
       "<IPython.core.display.Javascript object>"
      ]
     },
     "metadata": {},
     "output_type": "display_data"
    }
   ],
   "source": [
    "#TODO remove\n",
    "class_weights = sk.utils.class_weight.compute_class_weight(\n",
    "    \"balanced\", np.unique(data_container.train.y), data_container.train.y\n",
    ")"
   ]
  },
  {
   "cell_type": "code",
   "execution_count": 131,
   "metadata": {},
   "outputs": [
    {
     "data": {
      "application/javascript": [
       "\n",
       "            setTimeout(function() {\n",
       "                var nbb_cell_id = 131;\n",
       "                var nbb_formatted_code = \"def make_dataset(data_bundle):\\n    return tf.data.Dataset.from_tensor_slices((data_bundle.x, data_bundle.y))\";\n",
       "                var nbb_cells = Jupyter.notebook.get_cells();\n",
       "                for (var i = 0; i < nbb_cells.length; ++i) {\n",
       "                    if (nbb_cells[i].input_prompt_number == nbb_cell_id) {\n",
       "                        nbb_cells[i].set_text(nbb_formatted_code);\n",
       "                        break;\n",
       "                    }\n",
       "                }\n",
       "            }, 500);\n",
       "            "
      ],
      "text/plain": [
       "<IPython.core.display.Javascript object>"
      ]
     },
     "metadata": {},
     "output_type": "display_data"
    }
   ],
   "source": [
    "def make_dataset(data_bundle):\n",
    "    return tf.data.Dataset.from_tensor_slices((data_bundle.x, data_bundle.y))"
   ]
  },
  {
   "cell_type": "code",
   "execution_count": 132,
   "metadata": {},
   "outputs": [
    {
     "name": "stdout",
     "output_type": "stream",
     "text": [
      "tf.Tensor(b'Q: How many Oregonians does it take to screw in a light bulb?\\nA: Five. One to change the bulb and four more to chase off the Californians who have come up to relate to the experience.\\nA: Nine. One to change the bulb, and eight to protest the nuclear power plant that generates the electricity that powers it.', shape=(), dtype=string)\n",
      "tf.Tensor(5, shape=(), dtype=int64)\n"
     ]
    },
    {
     "data": {
      "application/javascript": [
       "\n",
       "            setTimeout(function() {\n",
       "                var nbb_cell_id = 132;\n",
       "                var nbb_formatted_code = \"for x, y in make_dataset(data_container.train).take(1):\\n    print(x)\\n    print(y)\";\n",
       "                var nbb_cells = Jupyter.notebook.get_cells();\n",
       "                for (var i = 0; i < nbb_cells.length; ++i) {\n",
       "                    if (nbb_cells[i].input_prompt_number == nbb_cell_id) {\n",
       "                        nbb_cells[i].set_text(nbb_formatted_code);\n",
       "                        break;\n",
       "                    }\n",
       "                }\n",
       "            }, 500);\n",
       "            "
      ],
      "text/plain": [
       "<IPython.core.display.Javascript object>"
      ]
     },
     "metadata": {},
     "output_type": "display_data"
    }
   ],
   "source": [
    "for x, y in make_dataset(data_container.train).take(1):\n",
    "    print(x)\n",
    "    print(y)"
   ]
  },
  {
   "cell_type": "code",
   "execution_count": 133,
   "metadata": {},
   "outputs": [
    {
     "data": {
      "application/javascript": [
       "\n",
       "            setTimeout(function() {\n",
       "                var nbb_cell_id = 133;\n",
       "                var nbb_formatted_code = \"data_container.train.dataset, data_container.validation.dataset, data_container.test.dataset = map(\\n    make_dataset, (data_container.train, data_container.validation, data_container.test)\\n)\";\n",
       "                var nbb_cells = Jupyter.notebook.get_cells();\n",
       "                for (var i = 0; i < nbb_cells.length; ++i) {\n",
       "                    if (nbb_cells[i].input_prompt_number == nbb_cell_id) {\n",
       "                        nbb_cells[i].set_text(nbb_formatted_code);\n",
       "                        break;\n",
       "                    }\n",
       "                }\n",
       "            }, 500);\n",
       "            "
      ],
      "text/plain": [
       "<IPython.core.display.Javascript object>"
      ]
     },
     "metadata": {},
     "output_type": "display_data"
    }
   ],
   "source": [
    "data_container.train.dataset, data_container.validation.dataset, data_container.test.dataset = map(\n",
    "    make_dataset, (data_container.train, data_container.validation, data_container.test)\n",
    ")"
   ]
  },
  {
   "cell_type": "code",
   "execution_count": 134,
   "metadata": {},
   "outputs": [
    {
     "data": {
      "application/javascript": [
       "\n",
       "            setTimeout(function() {\n",
       "                var nbb_cell_id = 134;\n",
       "                var nbb_formatted_code = \"def preprocess_batch(x, y, max_length=MAX_SEQUENCE_LENGTH):\\n    x = tf.strings.regex_replace(x, rb\\\"<br\\\\s*/?>\\\", b\\\" \\\")\\n    x = tf.strings.regex_replace(x, b\\\"[^A-Za-z$\\\\d]\\\", b\\\" \\\")\\n    x = tf.strings.lower(x)\\n    x = tf.strings.split(x)\\n    x = x.to_tensor(default_value=b\\\"<pad>\\\")\\n    paddings = tf.constant([[0, 0], [0, max_length]])\\n    x = tf.pad(x, paddings, constant_values=b\\\"<pad>\\\")\\n    x = x[:, :max_length]\\n    return x, y\";\n",
       "                var nbb_cells = Jupyter.notebook.get_cells();\n",
       "                for (var i = 0; i < nbb_cells.length; ++i) {\n",
       "                    if (nbb_cells[i].input_prompt_number == nbb_cell_id) {\n",
       "                        nbb_cells[i].set_text(nbb_formatted_code);\n",
       "                        break;\n",
       "                    }\n",
       "                }\n",
       "            }, 500);\n",
       "            "
      ],
      "text/plain": [
       "<IPython.core.display.Javascript object>"
      ]
     },
     "metadata": {},
     "output_type": "display_data"
    }
   ],
   "source": [
    "def preprocess_batch(x, y, max_length=MAX_SEQUENCE_LENGTH):\n",
    "    x = tf.strings.regex_replace(x, rb\"<br\\s*/?>\", b\" \")\n",
    "    x = tf.strings.regex_replace(x, b\"[^A-Za-z$\\d]\", b\" \")\n",
    "    x = tf.strings.lower(x)\n",
    "    x = tf.strings.split(x)\n",
    "    x = x.to_tensor(default_value=b\"<pad>\")\n",
    "    paddings = tf.constant([[0, 0], [0, max_length]])\n",
    "    x = tf.pad(x, paddings, constant_values=b\"<pad>\")\n",
    "    x = x[:, :max_length]\n",
    "    return x, y"
   ]
  },
  {
   "cell_type": "code",
   "execution_count": 135,
   "metadata": {},
   "outputs": [
    {
     "name": "stdout",
     "output_type": "stream",
     "text": [
      "(32, 500)\n",
      "(32,)\n",
      "tf.Tensor(\n",
      "[b'tragically' b'three' b'friends' b'die' b'in' b'a' b'car' b'crash'\n",
      " b'and' b'they' b'find' b'themselves' b'at' b'the' b'gates' b'of'\n",
      " b'heaven' b'before' b'entering' b'they' b'are' b'each' b'asked' b'a'\n",
      " b'question' b'by' b'st' b'peter' b'when' b'you' b'are' b'in' b'your'\n",
      " b'casket' b'and' b'friends' b'and' b'family' b'are' b'mourning' b'upon'\n",
      " b'you' b'what' b'would' b'you' b'like' b'to' b'hear' b'them' b'say'\n",
      " b'about' b'you' b'asks' b'st' b'peter' b'the' b'first' b'guy' b'says'\n",
      " b'i' b'would' b'like' b'to' b'hear' b'them' b'say' b'that' b'i' b'was'\n",
      " b'a' b'great' b'doctor' b'of' b'my' b'time' b'and' b'a' b'great'\n",
      " b'family' b'man' b'the' b'second' b'guy' b'says' b'i' b'would' b'like'\n",
      " b'to' b'hear' b'that' b'i' b'was' b'a' b'wonderful' b'husband' b'and'\n",
      " b'school' b'teacher' b'who' b'made' b'a' b'huge' b'difference' b'in'\n",
      " b'our' b'children' b'of' b'tomorrow' b'the' b'last' b'guy' b'replies'\n",
      " b'i' b'would' b'like' b'to' b'hear' b'them' b'say' b'look' b'he' b's'\n",
      " b'moving' b'<pad>' b'<pad>' b'<pad>' b'<pad>' b'<pad>' b'<pad>' b'<pad>'\n",
      " b'<pad>' b'<pad>' b'<pad>' b'<pad>' b'<pad>' b'<pad>' b'<pad>' b'<pad>'\n",
      " b'<pad>' b'<pad>' b'<pad>' b'<pad>' b'<pad>' b'<pad>' b'<pad>' b'<pad>'\n",
      " b'<pad>' b'<pad>' b'<pad>' b'<pad>' b'<pad>' b'<pad>' b'<pad>' b'<pad>'\n",
      " b'<pad>' b'<pad>' b'<pad>' b'<pad>' b'<pad>' b'<pad>' b'<pad>' b'<pad>'\n",
      " b'<pad>' b'<pad>' b'<pad>' b'<pad>' b'<pad>' b'<pad>' b'<pad>' b'<pad>'\n",
      " b'<pad>' b'<pad>' b'<pad>' b'<pad>' b'<pad>' b'<pad>' b'<pad>' b'<pad>'\n",
      " b'<pad>' b'<pad>' b'<pad>' b'<pad>' b'<pad>' b'<pad>' b'<pad>' b'<pad>'\n",
      " b'<pad>' b'<pad>' b'<pad>' b'<pad>' b'<pad>' b'<pad>' b'<pad>' b'<pad>'\n",
      " b'<pad>' b'<pad>' b'<pad>' b'<pad>' b'<pad>' b'<pad>' b'<pad>' b'<pad>'\n",
      " b'<pad>' b'<pad>' b'<pad>' b'<pad>' b'<pad>' b'<pad>' b'<pad>' b'<pad>'\n",
      " b'<pad>' b'<pad>' b'<pad>' b'<pad>' b'<pad>' b'<pad>' b'<pad>' b'<pad>'\n",
      " b'<pad>' b'<pad>' b'<pad>' b'<pad>' b'<pad>' b'<pad>' b'<pad>' b'<pad>'\n",
      " b'<pad>' b'<pad>' b'<pad>' b'<pad>' b'<pad>' b'<pad>' b'<pad>' b'<pad>'\n",
      " b'<pad>' b'<pad>' b'<pad>' b'<pad>' b'<pad>' b'<pad>' b'<pad>' b'<pad>'\n",
      " b'<pad>' b'<pad>' b'<pad>' b'<pad>' b'<pad>' b'<pad>' b'<pad>' b'<pad>'\n",
      " b'<pad>' b'<pad>' b'<pad>' b'<pad>' b'<pad>' b'<pad>' b'<pad>' b'<pad>'\n",
      " b'<pad>' b'<pad>' b'<pad>' b'<pad>' b'<pad>' b'<pad>' b'<pad>' b'<pad>'\n",
      " b'<pad>' b'<pad>' b'<pad>' b'<pad>' b'<pad>' b'<pad>' b'<pad>' b'<pad>'\n",
      " b'<pad>' b'<pad>' b'<pad>' b'<pad>' b'<pad>' b'<pad>' b'<pad>' b'<pad>'\n",
      " b'<pad>' b'<pad>' b'<pad>' b'<pad>' b'<pad>' b'<pad>' b'<pad>' b'<pad>'\n",
      " b'<pad>' b'<pad>' b'<pad>' b'<pad>' b'<pad>' b'<pad>' b'<pad>' b'<pad>'\n",
      " b'<pad>' b'<pad>' b'<pad>' b'<pad>' b'<pad>' b'<pad>' b'<pad>' b'<pad>'\n",
      " b'<pad>' b'<pad>' b'<pad>' b'<pad>' b'<pad>' b'<pad>' b'<pad>' b'<pad>'\n",
      " b'<pad>' b'<pad>' b'<pad>' b'<pad>' b'<pad>' b'<pad>' b'<pad>' b'<pad>'\n",
      " b'<pad>' b'<pad>' b'<pad>' b'<pad>' b'<pad>' b'<pad>' b'<pad>' b'<pad>'\n",
      " b'<pad>' b'<pad>' b'<pad>' b'<pad>' b'<pad>' b'<pad>' b'<pad>' b'<pad>'\n",
      " b'<pad>' b'<pad>' b'<pad>' b'<pad>' b'<pad>' b'<pad>' b'<pad>' b'<pad>'\n",
      " b'<pad>' b'<pad>' b'<pad>' b'<pad>' b'<pad>' b'<pad>' b'<pad>' b'<pad>'\n",
      " b'<pad>' b'<pad>' b'<pad>' b'<pad>' b'<pad>' b'<pad>' b'<pad>' b'<pad>'\n",
      " b'<pad>' b'<pad>' b'<pad>' b'<pad>' b'<pad>' b'<pad>' b'<pad>' b'<pad>'\n",
      " b'<pad>' b'<pad>' b'<pad>' b'<pad>' b'<pad>' b'<pad>' b'<pad>' b'<pad>'\n",
      " b'<pad>' b'<pad>' b'<pad>' b'<pad>' b'<pad>' b'<pad>' b'<pad>' b'<pad>'\n",
      " b'<pad>' b'<pad>' b'<pad>' b'<pad>' b'<pad>' b'<pad>' b'<pad>' b'<pad>'\n",
      " b'<pad>' b'<pad>' b'<pad>' b'<pad>' b'<pad>' b'<pad>' b'<pad>' b'<pad>'\n",
      " b'<pad>' b'<pad>' b'<pad>' b'<pad>' b'<pad>' b'<pad>' b'<pad>' b'<pad>'\n",
      " b'<pad>' b'<pad>' b'<pad>' b'<pad>' b'<pad>' b'<pad>' b'<pad>' b'<pad>'\n",
      " b'<pad>' b'<pad>' b'<pad>' b'<pad>' b'<pad>' b'<pad>' b'<pad>' b'<pad>'\n",
      " b'<pad>' b'<pad>' b'<pad>' b'<pad>' b'<pad>' b'<pad>' b'<pad>' b'<pad>'\n",
      " b'<pad>' b'<pad>' b'<pad>' b'<pad>' b'<pad>' b'<pad>' b'<pad>' b'<pad>'\n",
      " b'<pad>' b'<pad>' b'<pad>' b'<pad>' b'<pad>' b'<pad>' b'<pad>' b'<pad>'\n",
      " b'<pad>' b'<pad>' b'<pad>' b'<pad>' b'<pad>' b'<pad>' b'<pad>' b'<pad>'\n",
      " b'<pad>' b'<pad>' b'<pad>' b'<pad>' b'<pad>' b'<pad>' b'<pad>' b'<pad>'\n",
      " b'<pad>' b'<pad>' b'<pad>' b'<pad>' b'<pad>' b'<pad>' b'<pad>' b'<pad>'\n",
      " b'<pad>' b'<pad>' b'<pad>' b'<pad>' b'<pad>' b'<pad>' b'<pad>' b'<pad>'\n",
      " b'<pad>' b'<pad>' b'<pad>' b'<pad>' b'<pad>' b'<pad>' b'<pad>' b'<pad>'\n",
      " b'<pad>' b'<pad>' b'<pad>' b'<pad>' b'<pad>' b'<pad>' b'<pad>' b'<pad>'\n",
      " b'<pad>' b'<pad>'], shape=(500,), dtype=string)\n",
      "tf.Tensor(9, shape=(), dtype=int64)\n"
     ]
    },
    {
     "data": {
      "application/javascript": [
       "\n",
       "            setTimeout(function() {\n",
       "                var nbb_cell_id = 135;\n",
       "                var nbb_formatted_code = \"for x, y in (\\n    data_container.train.dataset.batch(BATCH_SIZE).map(preprocess_batch).take(1)\\n):\\n    print(x.shape)\\n    print(y.shape)\\n    print(x[2])\\n    print(y[2])\";\n",
       "                var nbb_cells = Jupyter.notebook.get_cells();\n",
       "                for (var i = 0; i < nbb_cells.length; ++i) {\n",
       "                    if (nbb_cells[i].input_prompt_number == nbb_cell_id) {\n",
       "                        nbb_cells[i].set_text(nbb_formatted_code);\n",
       "                        break;\n",
       "                    }\n",
       "                }\n",
       "            }, 500);\n",
       "            "
      ],
      "text/plain": [
       "<IPython.core.display.Javascript object>"
      ]
     },
     "metadata": {},
     "output_type": "display_data"
    }
   ],
   "source": [
    "for x, y in (\n",
    "    data_container.train.dataset.batch(BATCH_SIZE).map(preprocess_batch).take(1)\n",
    "):\n",
    "    print(x.shape)\n",
    "    print(y.shape)\n",
    "    print(x[2])\n",
    "    print(y[2])"
   ]
  },
  {
   "cell_type": "code",
   "execution_count": 136,
   "metadata": {},
   "outputs": [
    {
     "data": {
      "application/javascript": [
       "\n",
       "            setTimeout(function() {\n",
       "                var nbb_cell_id = 136;\n",
       "                var nbb_formatted_code = \"def make_vocabulary(dataset):\\n    vocabulary = Counter()\\n    for x, _ in dataset.batch(BATCH_SIZE).map(preprocess_batch):\\n        for review in x:\\n            vocabulary.update(review.numpy().tolist())\\n    return vocabulary\";\n",
       "                var nbb_cells = Jupyter.notebook.get_cells();\n",
       "                for (var i = 0; i < nbb_cells.length; ++i) {\n",
       "                    if (nbb_cells[i].input_prompt_number == nbb_cell_id) {\n",
       "                        nbb_cells[i].set_text(nbb_formatted_code);\n",
       "                        break;\n",
       "                    }\n",
       "                }\n",
       "            }, 500);\n",
       "            "
      ],
      "text/plain": [
       "<IPython.core.display.Javascript object>"
      ]
     },
     "metadata": {},
     "output_type": "display_data"
    }
   ],
   "source": [
    "def make_vocabulary(dataset):\n",
    "    vocabulary = Counter()\n",
    "    for x, _ in dataset.batch(BATCH_SIZE).map(preprocess_batch):\n",
    "        for review in x:\n",
    "            vocabulary.update(review.numpy().tolist())\n",
    "    return vocabulary"
   ]
  },
  {
   "cell_type": "code",
   "execution_count": 167,
   "metadata": {},
   "outputs": [
    {
     "data": {
      "text/plain": [
       "13780"
      ]
     },
     "execution_count": 167,
     "metadata": {},
     "output_type": "execute_result"
    },
    {
     "data": {
      "application/javascript": [
       "\n",
       "            setTimeout(function() {\n",
       "                var nbb_cell_id = 167;\n",
       "                var nbb_formatted_code = \"vocabulary = make_vocabulary(data_container.train.dataset)\\nlen(vocabulary)\";\n",
       "                var nbb_cells = Jupyter.notebook.get_cells();\n",
       "                for (var i = 0; i < nbb_cells.length; ++i) {\n",
       "                    if (nbb_cells[i].input_prompt_number == nbb_cell_id) {\n",
       "                        nbb_cells[i].set_text(nbb_formatted_code);\n",
       "                        break;\n",
       "                    }\n",
       "                }\n",
       "            }, 500);\n",
       "            "
      ],
      "text/plain": [
       "<IPython.core.display.Javascript object>"
      ]
     },
     "metadata": {},
     "output_type": "display_data"
    }
   ],
   "source": [
    "vocabulary = make_vocabulary(data_container.train.dataset)\n",
    "len(vocabulary)"
   ]
  },
  {
   "cell_type": "code",
   "execution_count": 182,
   "metadata": {},
   "outputs": [
    {
     "data": {
      "application/javascript": [
       "\n",
       "            setTimeout(function() {\n",
       "                var nbb_cell_id = 182;\n",
       "                var nbb_formatted_code = \"VOCABULARY_SIZE = 13780  # using full vocab for now\\ntruncated_vocabulary = [word for word, count in vocabulary.most_common(VOCABULARY_SIZE)]\\nn_oov_buckets = VOCABULARY_SIZE // 10\";\n",
       "                var nbb_cells = Jupyter.notebook.get_cells();\n",
       "                for (var i = 0; i < nbb_cells.length; ++i) {\n",
       "                    if (nbb_cells[i].input_prompt_number == nbb_cell_id) {\n",
       "                        nbb_cells[i].set_text(nbb_formatted_code);\n",
       "                        break;\n",
       "                    }\n",
       "                }\n",
       "            }, 500);\n",
       "            "
      ],
      "text/plain": [
       "<IPython.core.display.Javascript object>"
      ]
     },
     "metadata": {},
     "output_type": "display_data"
    }
   ],
   "source": [
    "VOCABULARY_SIZE = 13780  # using full vocab for now\n",
    "truncated_vocabulary = [word for word, count in vocabulary.most_common(VOCABULARY_SIZE)]\n",
    "n_oov_buckets = VOCABULARY_SIZE // 10"
   ]
  },
  {
   "cell_type": "code",
   "execution_count": 183,
   "metadata": {},
   "outputs": [
    {
     "data": {
      "application/javascript": [
       "\n",
       "            setTimeout(function() {\n",
       "                var nbb_cell_id = 183;\n",
       "                var nbb_formatted_code = \"words = tf.constant(truncated_vocabulary)\\nword_ids = tf.range(len(truncated_vocabulary), dtype=tf.int64)\";\n",
       "                var nbb_cells = Jupyter.notebook.get_cells();\n",
       "                for (var i = 0; i < nbb_cells.length; ++i) {\n",
       "                    if (nbb_cells[i].input_prompt_number == nbb_cell_id) {\n",
       "                        nbb_cells[i].set_text(nbb_formatted_code);\n",
       "                        break;\n",
       "                    }\n",
       "                }\n",
       "            }, 500);\n",
       "            "
      ],
      "text/plain": [
       "<IPython.core.display.Javascript object>"
      ]
     },
     "metadata": {},
     "output_type": "display_data"
    }
   ],
   "source": [
    "words = tf.constant(truncated_vocabulary)\n",
    "word_ids = tf.range(len(truncated_vocabulary), dtype=tf.int64)"
   ]
  },
  {
   "cell_type": "code",
   "execution_count": 184,
   "metadata": {},
   "outputs": [
    {
     "data": {
      "application/javascript": [
       "\n",
       "            setTimeout(function() {\n",
       "                var nbb_cell_id = 184;\n",
       "                var nbb_formatted_code = \"vocab_init = tf.lookup.KeyValueTensorInitializer(words, word_ids)\\ntable = tf.lookup.StaticVocabularyTable(vocab_init, num_oov_buckets=1)\";\n",
       "                var nbb_cells = Jupyter.notebook.get_cells();\n",
       "                for (var i = 0; i < nbb_cells.length; ++i) {\n",
       "                    if (nbb_cells[i].input_prompt_number == nbb_cell_id) {\n",
       "                        nbb_cells[i].set_text(nbb_formatted_code);\n",
       "                        break;\n",
       "                    }\n",
       "                }\n",
       "            }, 500);\n",
       "            "
      ],
      "text/plain": [
       "<IPython.core.display.Javascript object>"
      ]
     },
     "metadata": {},
     "output_type": "display_data"
    }
   ],
   "source": [
    "vocab_init = tf.lookup.KeyValueTensorInitializer(words, word_ids)\n",
    "table = tf.lookup.StaticVocabularyTable(vocab_init, num_oov_buckets=1)"
   ]
  },
  {
   "cell_type": "code",
   "execution_count": 185,
   "metadata": {},
   "outputs": [
    {
     "data": {
      "application/javascript": [
       "\n",
       "            setTimeout(function() {\n",
       "                var nbb_cell_id = 185;\n",
       "                var nbb_formatted_code = \"def encode_words(x, y):\\n    return table.lookup(x), y\";\n",
       "                var nbb_cells = Jupyter.notebook.get_cells();\n",
       "                for (var i = 0; i < nbb_cells.length; ++i) {\n",
       "                    if (nbb_cells[i].input_prompt_number == nbb_cell_id) {\n",
       "                        nbb_cells[i].set_text(nbb_formatted_code);\n",
       "                        break;\n",
       "                    }\n",
       "                }\n",
       "            }, 500);\n",
       "            "
      ],
      "text/plain": [
       "<IPython.core.display.Javascript object>"
      ]
     },
     "metadata": {},
     "output_type": "display_data"
    }
   ],
   "source": [
    "def encode_words(x, y):\n",
    "    return table.lookup(x), y"
   ]
  },
  {
   "cell_type": "code",
   "execution_count": 186,
   "metadata": {},
   "outputs": [
    {
     "data": {
      "application/javascript": [
       "\n",
       "            setTimeout(function() {\n",
       "                var nbb_cell_id = 186;\n",
       "                var nbb_formatted_code = \"train_dataset = (\\n    data_container.train.dataset.batch(BATCH_SIZE)\\n    .map(preprocess_batch)\\n    .map(encode_words)\\n    .repeat()\\n    .prefetch(-1)\\n)\";\n",
       "                var nbb_cells = Jupyter.notebook.get_cells();\n",
       "                for (var i = 0; i < nbb_cells.length; ++i) {\n",
       "                    if (nbb_cells[i].input_prompt_number == nbb_cell_id) {\n",
       "                        nbb_cells[i].set_text(nbb_formatted_code);\n",
       "                        break;\n",
       "                    }\n",
       "                }\n",
       "            }, 500);\n",
       "            "
      ],
      "text/plain": [
       "<IPython.core.display.Javascript object>"
      ]
     },
     "metadata": {},
     "output_type": "display_data"
    }
   ],
   "source": [
    "train_dataset = (\n",
    "    data_container.train.dataset.batch(BATCH_SIZE)\n",
    "    .map(preprocess_batch)\n",
    "    .map(encode_words)\n",
    "    .repeat()\n",
    "    .prefetch(-1)\n",
    ")"
   ]
  },
  {
   "cell_type": "code",
   "execution_count": 187,
   "metadata": {},
   "outputs": [
    {
     "data": {
      "application/javascript": [
       "\n",
       "            setTimeout(function() {\n",
       "                var nbb_cell_id = 187;\n",
       "                var nbb_formatted_code = \"validation_dataset = (\\n    data_container.validation.dataset.batch(BATCH_SIZE)\\n    .map(preprocess_batch)\\n    .map(encode_words)\\n    .prefetch(-1)\\n)\";\n",
       "                var nbb_cells = Jupyter.notebook.get_cells();\n",
       "                for (var i = 0; i < nbb_cells.length; ++i) {\n",
       "                    if (nbb_cells[i].input_prompt_number == nbb_cell_id) {\n",
       "                        nbb_cells[i].set_text(nbb_formatted_code);\n",
       "                        break;\n",
       "                    }\n",
       "                }\n",
       "            }, 500);\n",
       "            "
      ],
      "text/plain": [
       "<IPython.core.display.Javascript object>"
      ]
     },
     "metadata": {},
     "output_type": "display_data"
    }
   ],
   "source": [
    "validation_dataset = (\n",
    "    data_container.validation.dataset.batch(BATCH_SIZE)\n",
    "    .map(preprocess_batch)\n",
    "    .map(encode_words)\n",
    "    .prefetch(-1)\n",
    ")"
   ]
  },
  {
   "cell_type": "code",
   "execution_count": 174,
   "metadata": {},
   "outputs": [
    {
     "name": "stdout",
     "output_type": "stream",
     "text": [
      "(32, 500)\n",
      "(32,)\n",
      "tf.Tensor(\n",
      "[5571  107  410  723    9    2  136 1180    3   27  192 1649   31    1\n",
      "  423    7  258  138 1872   27   36  205   62    2  355   66  199  160\n",
      "   42    5   36    9   23 2012    3  410    3  386   36 2867  447    5\n",
      "   24   63    5   78    4  298   74  133   60    5   89  199  160    1\n",
      "   75   80   29    6   63   78    4  298   74  133   11    6   15    2\n",
      "  203  116    7   34   83    3    2  203  386   28    1  139   80   29\n",
      "    6   63   78    4  298   11    6   15    2  889   98    3  360  376\n",
      "   82  207    2  579  862    9  145  455    7 1062    1  158   80  127\n",
      "    6   63   78    4  298   74  133  149    8   14 1446    0    0    0\n",
      "    0    0    0    0    0    0    0    0    0    0    0    0    0    0\n",
      "    0    0    0    0    0    0    0    0    0    0    0    0    0    0\n",
      "    0    0    0    0    0    0    0    0    0    0    0    0    0    0\n",
      "    0    0    0    0    0    0    0    0    0    0    0    0    0    0\n",
      "    0    0    0    0    0    0    0    0    0    0    0    0    0    0\n",
      "    0    0    0    0    0    0    0    0    0    0    0    0    0    0\n",
      "    0    0    0    0    0    0    0    0    0    0    0    0    0    0\n",
      "    0    0    0    0    0    0    0    0    0    0    0    0    0    0\n",
      "    0    0    0    0    0    0    0    0    0    0    0    0    0    0\n",
      "    0    0    0    0    0    0    0    0    0    0    0    0    0    0\n",
      "    0    0    0    0    0    0    0    0    0    0    0    0    0    0\n",
      "    0    0    0    0    0    0    0    0    0    0    0    0    0    0\n",
      "    0    0    0    0    0    0    0    0    0    0    0    0    0    0\n",
      "    0    0    0    0    0    0    0    0    0    0    0    0    0    0\n",
      "    0    0    0    0    0    0    0    0    0    0    0    0    0    0\n",
      "    0    0    0    0    0    0    0    0    0    0    0    0    0    0\n",
      "    0    0    0    0    0    0    0    0    0    0    0    0    0    0\n",
      "    0    0    0    0    0    0    0    0    0    0    0    0    0    0\n",
      "    0    0    0    0    0    0    0    0    0    0    0    0    0    0\n",
      "    0    0    0    0    0    0    0    0    0    0    0    0    0    0\n",
      "    0    0    0    0    0    0    0    0    0    0    0    0    0    0\n",
      "    0    0    0    0    0    0    0    0    0    0    0    0    0    0\n",
      "    0    0    0    0    0    0    0    0    0    0    0    0    0    0\n",
      "    0    0    0    0    0    0    0    0    0    0    0    0    0    0\n",
      "    0    0    0    0    0    0    0    0    0    0    0    0    0    0\n",
      "    0    0    0    0    0    0    0    0    0    0    0    0    0    0\n",
      "    0    0    0    0    0    0    0    0    0    0], shape=(500,), dtype=int64)\n",
      "tf.Tensor(9, shape=(), dtype=int64)\n"
     ]
    },
    {
     "data": {
      "application/javascript": [
       "\n",
       "            setTimeout(function() {\n",
       "                var nbb_cell_id = 174;\n",
       "                var nbb_formatted_code = \"for x, y in train_dataset.take(1):\\n    print(x.shape)\\n    print(y.shape)\\n    print(x[2])\\n    print(y[2])\";\n",
       "                var nbb_cells = Jupyter.notebook.get_cells();\n",
       "                for (var i = 0; i < nbb_cells.length; ++i) {\n",
       "                    if (nbb_cells[i].input_prompt_number == nbb_cell_id) {\n",
       "                        nbb_cells[i].set_text(nbb_formatted_code);\n",
       "                        break;\n",
       "                    }\n",
       "                }\n",
       "            }, 500);\n",
       "            "
      ],
      "text/plain": [
       "<IPython.core.display.Javascript object>"
      ]
     },
     "metadata": {},
     "output_type": "display_data"
    }
   ],
   "source": [
    "for x, y in train_dataset.take(1):\n",
    "    print(x.shape)\n",
    "    print(y.shape)\n",
    "    print(x[2])\n",
    "    print(y[2])"
   ]
  },
  {
   "cell_type": "code",
   "execution_count": 175,
   "metadata": {},
   "outputs": [
    {
     "data": {
      "application/javascript": [
       "\n",
       "            setTimeout(function() {\n",
       "                var nbb_cell_id = 175;\n",
       "                var nbb_formatted_code = \"train_dataset_steps = len(data_container.train) // BATCH_SIZE\\nvalidation_dataset_steps = len(data_container.validation) // BATCH_SIZE\";\n",
       "                var nbb_cells = Jupyter.notebook.get_cells();\n",
       "                for (var i = 0; i < nbb_cells.length; ++i) {\n",
       "                    if (nbb_cells[i].input_prompt_number == nbb_cell_id) {\n",
       "                        nbb_cells[i].set_text(nbb_formatted_code);\n",
       "                        break;\n",
       "                    }\n",
       "                }\n",
       "            }, 500);\n",
       "            "
      ],
      "text/plain": [
       "<IPython.core.display.Javascript object>"
      ]
     },
     "metadata": {},
     "output_type": "display_data"
    }
   ],
   "source": [
    "train_dataset_steps = len(data_container.train) // BATCH_SIZE\n",
    "validation_dataset_steps = len(data_container.validation) // BATCH_SIZE"
   ]
  },
  {
   "cell_type": "code",
   "execution_count": 146,
   "metadata": {},
   "outputs": [
    {
     "data": {
      "application/javascript": [
       "\n",
       "            setTimeout(function() {\n",
       "                var nbb_cell_id = 146;\n",
       "                var nbb_formatted_code = \"def top_2_sparce_accuracy(y_true, y_pred):\\n    return keras.metrics.sparse_top_k_categorical_accuracy(y_true, y_pred, k=2)\";\n",
       "                var nbb_cells = Jupyter.notebook.get_cells();\n",
       "                for (var i = 0; i < nbb_cells.length; ++i) {\n",
       "                    if (nbb_cells[i].input_prompt_number == nbb_cell_id) {\n",
       "                        nbb_cells[i].set_text(nbb_formatted_code);\n",
       "                        break;\n",
       "                    }\n",
       "                }\n",
       "            }, 500);\n",
       "            "
      ],
      "text/plain": [
       "<IPython.core.display.Javascript object>"
      ]
     },
     "metadata": {},
     "output_type": "display_data"
    }
   ],
   "source": [
    "def top_2_sparce_accuracy(y_true, y_pred):\n",
    "    return keras.metrics.sparse_top_k_categorical_accuracy(y_true, y_pred, k=2)"
   ]
  },
  {
   "cell_type": "markdown",
   "metadata": {},
   "source": [
    "## Sequential Bidirectional LSTM model"
   ]
  },
  {
   "cell_type": "code",
   "execution_count": 147,
   "metadata": {},
   "outputs": [
    {
     "data": {
      "application/javascript": [
       "\n",
       "            setTimeout(function() {\n",
       "                var nbb_cell_id = 147;\n",
       "                var nbb_formatted_code = \"model = keras.models.Sequential(\\n    [\\n        keras.layers.Embedding(\\n            VOCABULARY_SIZE + n_oov_buckets,\\n            EMBEDDING_DIM,\\n            mask_zero=True,\\n            input_shape=[None],\\n        ),\\n        keras.layers.Bidirectional(\\n            keras.layers.LSTM(64, dropout=0.2, return_sequences=True)\\n        ),\\n        keras.layers.Bidirectional(\\n            keras.layers.LSTM(64, dropout=0.2, return_sequences=True)\\n        ),\\n        keras.layers.GlobalMaxPool1D(),\\n        keras.layers.Dropout(0.5),\\n        keras.layers.Dense(n_categories, activation=keras.activations.softmax),\\n    ]\\n)\";\n",
       "                var nbb_cells = Jupyter.notebook.get_cells();\n",
       "                for (var i = 0; i < nbb_cells.length; ++i) {\n",
       "                    if (nbb_cells[i].input_prompt_number == nbb_cell_id) {\n",
       "                        nbb_cells[i].set_text(nbb_formatted_code);\n",
       "                        break;\n",
       "                    }\n",
       "                }\n",
       "            }, 500);\n",
       "            "
      ],
      "text/plain": [
       "<IPython.core.display.Javascript object>"
      ]
     },
     "metadata": {},
     "output_type": "display_data"
    }
   ],
   "source": [
    "model = keras.models.Sequential(\n",
    "    [\n",
    "        keras.layers.Embedding(\n",
    "                VOCABULARY_SIZE + n_oov_buckets,\n",
    "                EMBEDDING_DIM,\n",
    "                mask_zero=True,\n",
    "                input_shape=[None],\n",
    "            ),\n",
    "        keras.layers.Bidirectional(\n",
    "            keras.layers.LSTM(64, dropout=0.2, return_sequences=True)\n",
    "        ),\n",
    "        keras.layers.Bidirectional(\n",
    "            keras.layers.LSTM(64, dropout=0.2, return_sequences=True)\n",
    "        ),\n",
    "        keras.layers.GlobalMaxPool1D(),\n",
    "        keras.layers.Dropout(0.5),\n",
    "        keras.layers.Dense(n_categories, activation=keras.activations.softmax),\n",
    "    ]\n",
    ")"
   ]
  },
  {
   "cell_type": "code",
   "execution_count": 148,
   "metadata": {},
   "outputs": [
    {
     "data": {
      "application/javascript": [
       "\n",
       "            setTimeout(function() {\n",
       "                var nbb_cell_id = 148;\n",
       "                var nbb_formatted_code = \"model.compile(\\n    loss=keras.losses.sparse_categorical_crossentropy,\\n    optimizer=keras.optimizers.Adam(lr=3e-4),\\n    metrics=[keras.metrics.sparse_categorical_accuracy, top_2_sparce_accuracy],\\n)\";\n",
       "                var nbb_cells = Jupyter.notebook.get_cells();\n",
       "                for (var i = 0; i < nbb_cells.length; ++i) {\n",
       "                    if (nbb_cells[i].input_prompt_number == nbb_cell_id) {\n",
       "                        nbb_cells[i].set_text(nbb_formatted_code);\n",
       "                        break;\n",
       "                    }\n",
       "                }\n",
       "            }, 500);\n",
       "            "
      ],
      "text/plain": [
       "<IPython.core.display.Javascript object>"
      ]
     },
     "metadata": {},
     "output_type": "display_data"
    }
   ],
   "source": [
    "model.compile(\n",
    "    loss=keras.losses.sparse_categorical_crossentropy,\n",
    "    optimizer=keras.optimizers.Adam(lr=3e-4),\n",
    "    metrics=[keras.metrics.sparse_categorical_accuracy, top_2_sparce_accuracy],\n",
    ")"
   ]
  },
  {
   "cell_type": "code",
   "execution_count": 149,
   "metadata": {},
   "outputs": [
    {
     "name": "stdout",
     "output_type": "stream",
     "text": [
      "Train for 61 steps, validate for 7 steps\n",
      "Epoch 1/20\n",
      "61/61 - 22s - loss: 2.7202 - sparse_categorical_accuracy: 0.2690 - top_2_sparce_accuracy: 0.3499 - val_loss: 2.5545 - val_sparse_categorical_accuracy: 0.3036 - val_top_2_sparce_accuracy: 0.3750\n",
      "Epoch 2/20\n",
      "61/61 - 7s - loss: 2.5100 - sparse_categorical_accuracy: 0.3004 - top_2_sparce_accuracy: 0.3988 - val_loss: 2.4680 - val_sparse_categorical_accuracy: 0.3125 - val_top_2_sparce_accuracy: 0.4509\n",
      "Epoch 3/20\n",
      "61/61 - 7s - loss: 2.3243 - sparse_categorical_accuracy: 0.3480 - top_2_sparce_accuracy: 0.5156 - val_loss: 2.1840 - val_sparse_categorical_accuracy: 0.3750 - val_top_2_sparce_accuracy: 0.5312\n",
      "Epoch 4/20\n",
      "61/61 - 7s - loss: 1.9965 - sparse_categorical_accuracy: 0.4362 - top_2_sparce_accuracy: 0.5587 - val_loss: 2.0133 - val_sparse_categorical_accuracy: 0.4464 - val_top_2_sparce_accuracy: 0.5268\n",
      "Epoch 5/20\n",
      "61/61 - 7s - loss: 1.7132 - sparse_categorical_accuracy: 0.4962 - top_2_sparce_accuracy: 0.5736 - val_loss: 2.0012 - val_sparse_categorical_accuracy: 0.4330 - val_top_2_sparce_accuracy: 0.5491\n",
      "Epoch 6/20\n",
      "61/61 - 7s - loss: 1.5664 - sparse_categorical_accuracy: 0.5115 - top_2_sparce_accuracy: 0.5935 - val_loss: 2.0704 - val_sparse_categorical_accuracy: 0.4018 - val_top_2_sparce_accuracy: 0.4643\n",
      "Epoch 7/20\n",
      "61/61 - 7s - loss: 1.4448 - sparse_categorical_accuracy: 0.5392 - top_2_sparce_accuracy: 0.6217 - val_loss: 2.1512 - val_sparse_categorical_accuracy: 0.3973 - val_top_2_sparce_accuracy: 0.5089\n",
      "Epoch 8/20\n",
      "61/61 - 7s - loss: 1.3904 - sparse_categorical_accuracy: 0.5556 - top_2_sparce_accuracy: 0.6279 - val_loss: 2.1451 - val_sparse_categorical_accuracy: 0.3750 - val_top_2_sparce_accuracy: 0.4911\n"
     ]
    },
    {
     "data": {
      "application/javascript": [
       "\n",
       "            setTimeout(function() {\n",
       "                var nbb_cell_id = 149;\n",
       "                var nbb_formatted_code = \"history = model.fit(\\n    train_dataset,\\n    steps_per_epoch=train_dataset_steps,\\n    validation_data=validation_dataset,\\n    validation_steps=validation_dataset_steps,\\n    epochs=20,\\n    callbacks=[\\n        keras.callbacks.ReduceLROnPlateau(patience=1, factor=0.3),\\n        keras.callbacks.EarlyStopping(patience=3, restore_best_weights=True),\\n    ],\\n    class_weight=class_weights,\\n    verbose=2,\\n)\";\n",
       "                var nbb_cells = Jupyter.notebook.get_cells();\n",
       "                for (var i = 0; i < nbb_cells.length; ++i) {\n",
       "                    if (nbb_cells[i].input_prompt_number == nbb_cell_id) {\n",
       "                        nbb_cells[i].set_text(nbb_formatted_code);\n",
       "                        break;\n",
       "                    }\n",
       "                }\n",
       "            }, 500);\n",
       "            "
      ],
      "text/plain": [
       "<IPython.core.display.Javascript object>"
      ]
     },
     "metadata": {},
     "output_type": "display_data"
    }
   ],
   "source": [
    "history = model.fit(\n",
    "    train_dataset,\n",
    "    steps_per_epoch=train_dataset_steps,\n",
    "    validation_data=validation_dataset,\n",
    "    validation_steps=validation_dataset_steps,\n",
    "    epochs=20,\n",
    "    callbacks=[\n",
    "        keras.callbacks.ReduceLROnPlateau(patience=1, factor=0.3),\n",
    "        keras.callbacks.EarlyStopping(patience=3, restore_best_weights=True),\n",
    "    ],\n",
    "    class_weight=class_weights,\n",
    "    verbose=2,\n",
    ")"
   ]
  },
  {
   "cell_type": "code",
   "execution_count": 150,
   "metadata": {},
   "outputs": [
    {
     "data": {
      "image/png": "[encoded data removed]",
      "text/plain": [
       "<Figure size 432x288 with 1 Axes>"
      ]
     },
     "metadata": {
      "needs_background": "light"
     },
     "output_type": "display_data"
    },
    {
     "data": {
      "image/png": "[encoded data removed]",
      "text/plain": [
       "<Figure size 432x288 with 1 Axes>"
      ]
     },
     "metadata": {
      "needs_background": "light"
     },
     "output_type": "display_data"
    },
    {
     "data": {
      "application/javascript": [
       "\n",
       "            setTimeout(function() {\n",
       "                var nbb_cell_id = 150;\n",
       "                var nbb_formatted_code = \"show_history(history, contains=\\\"acc\\\", skip=2)\\nshow_history(history, contains=\\\"loss\\\", skip=2)\";\n",
       "                var nbb_cells = Jupyter.notebook.get_cells();\n",
       "                for (var i = 0; i < nbb_cells.length; ++i) {\n",
       "                    if (nbb_cells[i].input_prompt_number == nbb_cell_id) {\n",
       "                        nbb_cells[i].set_text(nbb_formatted_code);\n",
       "                        break;\n",
       "                    }\n",
       "                }\n",
       "            }, 500);\n",
       "            "
      ],
      "text/plain": [
       "<IPython.core.display.Javascript object>"
      ]
     },
     "metadata": {},
     "output_type": "display_data"
    }
   ],
   "source": [
    "show_history(history, contains=\"acc\", skip=2)\n",
    "show_history(history, contains=\"loss\", skip=2)"
   ]
  },
  {
   "cell_type": "code",
   "execution_count": 151,
   "metadata": {},
   "outputs": [
    {
     "name": "stdout",
     "output_type": "stream",
     "text": [
      "7/7 [==============================] - 0s 45ms/step - loss: 2.0012 - sparse_categorical_accuracy: 0.4330 - top_2_sparce_accuracy: 0.5491\n"
     ]
    },
    {
     "data": {
      "text/plain": [
       "[2.001236234392439, 0.4330357, 0.54910713]"
      ]
     },
     "execution_count": 151,
     "metadata": {},
     "output_type": "execute_result"
    },
    {
     "data": {
      "application/javascript": [
       "\n",
       "            setTimeout(function() {\n",
       "                var nbb_cell_id = 151;\n",
       "                var nbb_formatted_code = \"model.evaluate(validation_dataset, steps=validation_dataset_steps)\";\n",
       "                var nbb_cells = Jupyter.notebook.get_cells();\n",
       "                for (var i = 0; i < nbb_cells.length; ++i) {\n",
       "                    if (nbb_cells[i].input_prompt_number == nbb_cell_id) {\n",
       "                        nbb_cells[i].set_text(nbb_formatted_code);\n",
       "                        break;\n",
       "                    }\n",
       "                }\n",
       "            }, 500);\n",
       "            "
      ],
      "text/plain": [
       "<IPython.core.display.Javascript object>"
      ]
     },
     "metadata": {},
     "output_type": "display_data"
    }
   ],
   "source": [
    "model.evaluate(validation_dataset, steps=validation_dataset_steps)"
   ]
  },
  {
   "cell_type": "code",
   "execution_count": 152,
   "metadata": {},
   "outputs": [
    {
     "name": "stdout",
     "output_type": "stream",
     "text": [
      "              precision    recall  f1-score   support\n",
      "\n",
      "           0       0.00      0.00      0.00         9\n",
      "           1       0.09      0.24      0.13        17\n",
      "           2       0.00      0.00      0.00         9\n",
      "           3       0.94      0.85      0.89        20\n",
      "           4       0.41      0.82      0.55        74\n",
      "           5       0.73      1.00      0.84         8\n",
      "           6       0.00      0.00      0.00        11\n",
      "           7       0.93      1.00      0.96        13\n",
      "           8       0.00      0.00      0.00         8\n",
      "           9       0.00      0.00      0.00        10\n",
      "          10       0.00      0.00      0.00        10\n",
      "          11       0.00      0.00      0.00         9\n",
      "          12       0.00      0.00      0.00         6\n",
      "          13       0.00      0.00      0.00        12\n",
      "          14       0.00      0.00      0.00         9\n",
      "          15       0.00      0.00      0.00         7\n",
      "          16       0.09      0.06      0.07        16\n",
      "\n",
      "    accuracy                           0.42       248\n",
      "   macro avg       0.19      0.23      0.20       248\n",
      "weighted avg       0.28      0.42      0.33       248\n",
      "\n"
     ]
    },
    {
     "name": "stderr",
     "output_type": "stream",
     "text": [
      "/home/martynas/ml/.venv/lib/python3.6/site-packages/sklearn/metrics/classification.py:1437: UndefinedMetricWarning: Precision and F-score are ill-defined and being set to 0.0 in labels with no predicted samples.\n",
      "  'precision', 'predicted', average, warn_for)\n"
     ]
    },
    {
     "data": {
      "application/javascript": [
       "\n",
       "            setTimeout(function() {\n",
       "                var nbb_cell_id = 152;\n",
       "                var nbb_formatted_code = \"print(\\n    classification_report(\\n        data_container.validation.y, model.predict(validation_dataset).argmax(axis=1)\\n    )\\n)\";\n",
       "                var nbb_cells = Jupyter.notebook.get_cells();\n",
       "                for (var i = 0; i < nbb_cells.length; ++i) {\n",
       "                    if (nbb_cells[i].input_prompt_number == nbb_cell_id) {\n",
       "                        nbb_cells[i].set_text(nbb_formatted_code);\n",
       "                        break;\n",
       "                    }\n",
       "                }\n",
       "            }, 500);\n",
       "            "
      ],
      "text/plain": [
       "<IPython.core.display.Javascript object>"
      ]
     },
     "metadata": {},
     "output_type": "display_data"
    }
   ],
   "source": [
    "print(\n",
    "    classification_report(\n",
    "        data_container.validation.y, model.predict(validation_dataset).argmax(axis=1)\n",
    "    )\n",
    ")"
   ]
  },
  {
   "cell_type": "markdown",
   "metadata": {},
   "source": [
    "## Use pre-trained GloVe vectors with Bidirectional LSTM"
   ]
  },
  {
   "cell_type": "code",
   "execution_count": 153,
   "metadata": {},
   "outputs": [
    {
     "name": "stdout",
     "output_type": "stream",
     "text": [
      "Loading GloVe from: temp/glove.6B.200d.txt ... Done.\n"
     ]
    },
    {
     "data": {
      "application/javascript": [
       "\n",
       "            setTimeout(function() {\n",
       "                var nbb_cell_id = 153;\n",
       "                var nbb_formatted_code = \"GLOVE_DIR = TEMP_DIR / f\\\"glove.6B.{EMBEDDING_DIM}d.txt\\\"\\nembeddings_index = {}\\nf = open(GLOVE_DIR, encoding=\\\"utf-8\\\")\\nprint(\\\"Loading GloVe from:\\\", GLOVE_DIR, \\\"...\\\", end=\\\" \\\")\\nfor line in f:\\n    values = line.split()\\n    word = values[0]\\n    embeddings_index[word] = np.asarray(values[1:], dtype=\\\"float32\\\")\\nf.close()\\nprint(\\\"Done.\\\")\";\n",
       "                var nbb_cells = Jupyter.notebook.get_cells();\n",
       "                for (var i = 0; i < nbb_cells.length; ++i) {\n",
       "                    if (nbb_cells[i].input_prompt_number == nbb_cell_id) {\n",
       "                        nbb_cells[i].set_text(nbb_formatted_code);\n",
       "                        break;\n",
       "                    }\n",
       "                }\n",
       "            }, 500);\n",
       "            "
      ],
      "text/plain": [
       "<IPython.core.display.Javascript object>"
      ]
     },
     "metadata": {},
     "output_type": "display_data"
    }
   ],
   "source": [
    "GLOVE_DIR = TEMP_DIR / f\"glove.6B.{EMBEDDING_DIM}d.txt\"\n",
    "embeddings_index = {}\n",
    "f = open(GLOVE_DIR, encoding=\"utf-8\")\n",
    "print(\"Loading GloVe from:\", GLOVE_DIR, \"...\", end=\" \")\n",
    "for line in f:\n",
    "    values = line.split()\n",
    "    word = values[0]\n",
    "    embeddings_index[word] = np.asarray(values[1:], dtype=\"float32\")\n",
    "f.close()\n",
    "print(\"Done.\")"
   ]
  },
  {
   "cell_type": "code",
   "execution_count": 188,
   "metadata": {
    "scrolled": true
   },
   "outputs": [
    {
     "name": "stdout",
     "output_type": "stream",
     "text": [
      "<pad>\n",
      "poopie\n",
      "$5\n",
      "$100\n",
      "$50\n",
      "myass\n",
      "$20\n",
      "$500\n",
      "rindercella\n",
      "Completed!\n",
      "1170\n"
     ]
    },
    {
     "data": {
      "application/javascript": [
       "\n",
       "            setTimeout(function() {\n",
       "                var nbb_cell_id = 188;\n",
       "                var nbb_formatted_code = \"unknown_word_count = 0\\nembedding_matrix = np.random.random((len(truncated_vocabulary) + 1, EMBEDDING_DIM))\\nfor i, word in enumerate(truncated_vocabulary):\\n    embedding_vector = embeddings_index.get(word.decode(\\\"utf-8\\\"))\\n    if embedding_vector is not None:\\n        embedding_matrix[i] = embedding_vector\\n    else:\\n        unknown_word_count += 1\\n        if unknown_word_count < 10:\\n            print(word.decode(\\\"utf-8\\\"))\\nprint(\\\"Completed!\\\")\\nprint(unknown_word_count)\";\n",
       "                var nbb_cells = Jupyter.notebook.get_cells();\n",
       "                for (var i = 0; i < nbb_cells.length; ++i) {\n",
       "                    if (nbb_cells[i].input_prompt_number == nbb_cell_id) {\n",
       "                        nbb_cells[i].set_text(nbb_formatted_code);\n",
       "                        break;\n",
       "                    }\n",
       "                }\n",
       "            }, 500);\n",
       "            "
      ],
      "text/plain": [
       "<IPython.core.display.Javascript object>"
      ]
     },
     "metadata": {},
     "output_type": "display_data"
    }
   ],
   "source": [
    "unknown_word_count = 0\n",
    "embedding_matrix = np.random.random((len(truncated_vocabulary) + 1, EMBEDDING_DIM))\n",
    "for i, word in enumerate(truncated_vocabulary):\n",
    "    embedding_vector = embeddings_index.get(word.decode(\"utf-8\"))\n",
    "    if embedding_vector is not None:\n",
    "        embedding_matrix[i] = embedding_vector\n",
    "    else:\n",
    "        unknown_word_count += 1\n",
    "        if unknown_word_count < 10:\n",
    "            print(word.decode(\"utf-8\"))\n",
    "print(\"Completed!\")\n",
    "print(unknown_word_count)"
   ]
  },
  {
   "cell_type": "code",
   "execution_count": 189,
   "metadata": {},
   "outputs": [
    {
     "data": {
      "text/plain": [
       "(13781, 200)"
      ]
     },
     "execution_count": 189,
     "metadata": {},
     "output_type": "execute_result"
    },
    {
     "data": {
      "application/javascript": [
       "\n",
       "            setTimeout(function() {\n",
       "                var nbb_cell_id = 189;\n",
       "                var nbb_formatted_code = \"embedding_matrix.shape\";\n",
       "                var nbb_cells = Jupyter.notebook.get_cells();\n",
       "                for (var i = 0; i < nbb_cells.length; ++i) {\n",
       "                    if (nbb_cells[i].input_prompt_number == nbb_cell_id) {\n",
       "                        nbb_cells[i].set_text(nbb_formatted_code);\n",
       "                        break;\n",
       "                    }\n",
       "                }\n",
       "            }, 500);\n",
       "            "
      ],
      "text/plain": [
       "<IPython.core.display.Javascript object>"
      ]
     },
     "metadata": {},
     "output_type": "display_data"
    }
   ],
   "source": [
    "embedding_matrix.shape"
   ]
  },
  {
   "cell_type": "code",
   "execution_count": 190,
   "metadata": {},
   "outputs": [
    {
     "data": {
      "application/javascript": [
       "\n",
       "            setTimeout(function() {\n",
       "                var nbb_cell_id = 190;\n",
       "                var nbb_formatted_code = \"model = keras.models.Sequential(\\n    [\\n        keras.layers.Input(shape=(MAX_SEQUENCE_LENGTH,), dtype=\\\"int32\\\"),\\n        keras.layers.Embedding(\\n            len(truncated_vocabulary) + 1,\\n            EMBEDDING_DIM,\\n            embeddings_initializer=keras.initializers.Constant(embedding_matrix),\\n            input_length=MAX_SEQUENCE_LENGTH,\\n            trainable=False,\\n            name=\\\"embeddings\\\",\\n        ),\\n        keras.layers.Bidirectional(\\n            keras.layers.LSTM(64, dropout=0.2, return_sequences=True)\\n        ),\\n        keras.layers.Bidirectional(\\n            keras.layers.LSTM(64, dropout=0.2, return_sequences=True)\\n        ),\\n        keras.layers.GlobalMaxPool1D(),\\n        keras.layers.Dropout(0.5),\\n        keras.layers.Dense(n_categories, activation=keras.activations.softmax),\\n    ]\\n)\";\n",
       "                var nbb_cells = Jupyter.notebook.get_cells();\n",
       "                for (var i = 0; i < nbb_cells.length; ++i) {\n",
       "                    if (nbb_cells[i].input_prompt_number == nbb_cell_id) {\n",
       "                        nbb_cells[i].set_text(nbb_formatted_code);\n",
       "                        break;\n",
       "                    }\n",
       "                }\n",
       "            }, 500);\n",
       "            "
      ],
      "text/plain": [
       "<IPython.core.display.Javascript object>"
      ]
     },
     "metadata": {},
     "output_type": "display_data"
    }
   ],
   "source": [
    "model = keras.models.Sequential(\n",
    "    [\n",
    "        keras.layers.Input(shape=(MAX_SEQUENCE_LENGTH,), dtype=\"int32\"),\n",
    "        keras.layers.Embedding(\n",
    "            len(truncated_vocabulary) + 1,\n",
    "            EMBEDDING_DIM,\n",
    "            embeddings_initializer=keras.initializers.Constant(embedding_matrix),\n",
    "            input_length=MAX_SEQUENCE_LENGTH,\n",
    "            trainable=False,\n",
    "            name=\"embeddings\",\n",
    "        ),\n",
    "        keras.layers.Bidirectional(\n",
    "            keras.layers.LSTM(64, dropout=0.2, return_sequences=True)\n",
    "        ),\n",
    "        keras.layers.Bidirectional(\n",
    "            keras.layers.LSTM(64, dropout=0.2, return_sequences=True)\n",
    "        ),\n",
    "        keras.layers.GlobalMaxPool1D(),\n",
    "        keras.layers.Dropout(0.5),\n",
    "        keras.layers.Dense(n_categories, activation=keras.activations.softmax),\n",
    "    ]\n",
    ")"
   ]
  },
  {
   "cell_type": "code",
   "execution_count": 191,
   "metadata": {},
   "outputs": [
    {
     "data": {
      "application/javascript": [
       "\n",
       "            setTimeout(function() {\n",
       "                var nbb_cell_id = 191;\n",
       "                var nbb_formatted_code = \"model.compile(\\n    loss=keras.losses.sparse_categorical_crossentropy,\\n    optimizer=keras.optimizers.Adam(lr=3e-4),\\n    metrics=[keras.metrics.sparse_categorical_accuracy, top_2_sparce_accuracy],\\n)\";\n",
       "                var nbb_cells = Jupyter.notebook.get_cells();\n",
       "                for (var i = 0; i < nbb_cells.length; ++i) {\n",
       "                    if (nbb_cells[i].input_prompt_number == nbb_cell_id) {\n",
       "                        nbb_cells[i].set_text(nbb_formatted_code);\n",
       "                        break;\n",
       "                    }\n",
       "                }\n",
       "            }, 500);\n",
       "            "
      ],
      "text/plain": [
       "<IPython.core.display.Javascript object>"
      ]
     },
     "metadata": {},
     "output_type": "display_data"
    }
   ],
   "source": [
    "model.compile(\n",
    "    loss=keras.losses.sparse_categorical_crossentropy,\n",
    "    optimizer=keras.optimizers.Adam(lr=3e-4),\n",
    "    metrics=[keras.metrics.sparse_categorical_accuracy, top_2_sparce_accuracy],\n",
    ")"
   ]
  },
  {
   "cell_type": "code",
   "execution_count": 192,
   "metadata": {},
   "outputs": [
    {
     "name": "stdout",
     "output_type": "stream",
     "text": [
      "Model: \"sequential_9\"\n",
      "_________________________________________________________________\n",
      "Layer (type)                 Output Shape              Param #   \n",
      "=================================================================\n",
      "embeddings (Embedding)       (None, 500, 200)          2756200   \n",
      "_________________________________________________________________\n",
      "bidirectional_18 (Bidirectio (None, 500, 128)          135680    \n",
      "_________________________________________________________________\n",
      "bidirectional_19 (Bidirectio (None, 500, 128)          98816     \n",
      "_________________________________________________________________\n",
      "global_max_pooling1d_9 (Glob (None, 128)               0         \n",
      "_________________________________________________________________\n",
      "dropout_9 (Dropout)          (None, 128)               0         \n",
      "_________________________________________________________________\n",
      "dense_9 (Dense)              (None, 17)                2193      \n",
      "=================================================================\n",
      "Total params: 2,992,889\n",
      "Trainable params: 236,689\n",
      "Non-trainable params: 2,756,200\n",
      "_________________________________________________________________\n"
     ]
    },
    {
     "data": {
      "application/javascript": [
       "\n",
       "            setTimeout(function() {\n",
       "                var nbb_cell_id = 192;\n",
       "                var nbb_formatted_code = \"model.summary()\";\n",
       "                var nbb_cells = Jupyter.notebook.get_cells();\n",
       "                for (var i = 0; i < nbb_cells.length; ++i) {\n",
       "                    if (nbb_cells[i].input_prompt_number == nbb_cell_id) {\n",
       "                        nbb_cells[i].set_text(nbb_formatted_code);\n",
       "                        break;\n",
       "                    }\n",
       "                }\n",
       "            }, 500);\n",
       "            "
      ],
      "text/plain": [
       "<IPython.core.display.Javascript object>"
      ]
     },
     "metadata": {},
     "output_type": "display_data"
    }
   ],
   "source": [
    "model.summary()"
   ]
  },
  {
   "cell_type": "code",
   "execution_count": 193,
   "metadata": {},
   "outputs": [
    {
     "name": "stdout",
     "output_type": "stream",
     "text": [
      "Train for 61 steps, validate for 7 steps\n",
      "Epoch 1/20\n",
      "61/61 - 10s - loss: 2.6345 - sparse_categorical_accuracy: 0.2454 - top_2_sparce_accuracy: 0.3299 - val_loss: 2.4629 - val_sparse_categorical_accuracy: 0.3036 - val_top_2_sparce_accuracy: 0.4509\n",
      "Epoch 2/20\n",
      "61/61 - 6s - loss: 2.4822 - sparse_categorical_accuracy: 0.2932 - top_2_sparce_accuracy: 0.4300 - val_loss: 2.3630 - val_sparse_categorical_accuracy: 0.3036 - val_top_2_sparce_accuracy: 0.4643\n",
      "Epoch 3/20\n",
      "61/61 - 6s - loss: 2.3730 - sparse_categorical_accuracy: 0.3055 - top_2_sparce_accuracy: 0.4546 - val_loss: 2.2481 - val_sparse_categorical_accuracy: 0.3705 - val_top_2_sparce_accuracy: 0.5089\n",
      "Epoch 4/20\n",
      "61/61 - 6s - loss: 2.2299 - sparse_categorical_accuracy: 0.3685 - top_2_sparce_accuracy: 0.5151 - val_loss: 2.0883 - val_sparse_categorical_accuracy: 0.4241 - val_top_2_sparce_accuracy: 0.5268\n",
      "Epoch 5/20\n",
      "61/61 - 6s - loss: 2.0515 - sparse_categorical_accuracy: 0.4264 - top_2_sparce_accuracy: 0.5572 - val_loss: 1.9542 - val_sparse_categorical_accuracy: 0.4375 - val_top_2_sparce_accuracy: 0.5625\n",
      "Epoch 6/20\n",
      "61/61 - 6s - loss: 1.9382 - sparse_categorical_accuracy: 0.4367 - top_2_sparce_accuracy: 0.5613 - val_loss: 1.8759 - val_sparse_categorical_accuracy: 0.4464 - val_top_2_sparce_accuracy: 0.5804\n",
      "Epoch 7/20\n",
      "61/61 - 6s - loss: 1.8739 - sparse_categorical_accuracy: 0.4495 - top_2_sparce_accuracy: 0.5859 - val_loss: 1.8312 - val_sparse_categorical_accuracy: 0.4554 - val_top_2_sparce_accuracy: 0.5670\n",
      "Epoch 8/20\n",
      "61/61 - 6s - loss: 1.8315 - sparse_categorical_accuracy: 0.4623 - top_2_sparce_accuracy: 0.5889 - val_loss: 1.7899 - val_sparse_categorical_accuracy: 0.4688 - val_top_2_sparce_accuracy: 0.5848\n",
      "Epoch 9/20\n",
      "61/61 - 6s - loss: 1.7789 - sparse_categorical_accuracy: 0.4792 - top_2_sparce_accuracy: 0.6002 - val_loss: 1.7393 - val_sparse_categorical_accuracy: 0.4821 - val_top_2_sparce_accuracy: 0.6161\n",
      "Epoch 10/20\n",
      "61/61 - 6s - loss: 1.6975 - sparse_categorical_accuracy: 0.4967 - top_2_sparce_accuracy: 0.6279 - val_loss: 1.7157 - val_sparse_categorical_accuracy: 0.4955 - val_top_2_sparce_accuracy: 0.5893\n",
      "Epoch 11/20\n",
      "61/61 - 6s - loss: 1.6510 - sparse_categorical_accuracy: 0.5069 - top_2_sparce_accuracy: 0.6412 - val_loss: 1.6949 - val_sparse_categorical_accuracy: 0.4777 - val_top_2_sparce_accuracy: 0.6205\n",
      "Epoch 12/20\n",
      "61/61 - 6s - loss: 1.6050 - sparse_categorical_accuracy: 0.5120 - top_2_sparce_accuracy: 0.6627 - val_loss: 1.6326 - val_sparse_categorical_accuracy: 0.5089 - val_top_2_sparce_accuracy: 0.6696\n",
      "Epoch 13/20\n",
      "61/61 - 6s - loss: 1.5891 - sparse_categorical_accuracy: 0.5120 - top_2_sparce_accuracy: 0.6550 - val_loss: 1.6398 - val_sparse_categorical_accuracy: 0.4821 - val_top_2_sparce_accuracy: 0.6339\n",
      "Epoch 14/20\n",
      "61/61 - 6s - loss: 1.5259 - sparse_categorical_accuracy: 0.5489 - top_2_sparce_accuracy: 0.6771 - val_loss: 1.6428 - val_sparse_categorical_accuracy: 0.5089 - val_top_2_sparce_accuracy: 0.6429\n",
      "Epoch 15/20\n",
      "61/61 - 6s - loss: 1.5180 - sparse_categorical_accuracy: 0.5341 - top_2_sparce_accuracy: 0.6884 - val_loss: 1.6201 - val_sparse_categorical_accuracy: 0.4955 - val_top_2_sparce_accuracy: 0.6429\n",
      "Epoch 16/20\n",
      "61/61 - 6s - loss: 1.4822 - sparse_categorical_accuracy: 0.5474 - top_2_sparce_accuracy: 0.6909 - val_loss: 1.6256 - val_sparse_categorical_accuracy: 0.4911 - val_top_2_sparce_accuracy: 0.6518\n",
      "Epoch 17/20\n",
      "61/61 - 6s - loss: 1.4842 - sparse_categorical_accuracy: 0.5464 - top_2_sparce_accuracy: 0.6904 - val_loss: 1.6210 - val_sparse_categorical_accuracy: 0.4911 - val_top_2_sparce_accuracy: 0.6295\n",
      "Epoch 18/20\n",
      "61/61 - 6s - loss: 1.4778 - sparse_categorical_accuracy: 0.5520 - top_2_sparce_accuracy: 0.6899 - val_loss: 1.6200 - val_sparse_categorical_accuracy: 0.4911 - val_top_2_sparce_accuracy: 0.6339\n",
      "Epoch 19/20\n",
      "61/61 - 6s - loss: 1.4671 - sparse_categorical_accuracy: 0.5551 - top_2_sparce_accuracy: 0.7032 - val_loss: 1.6200 - val_sparse_categorical_accuracy: 0.4911 - val_top_2_sparce_accuracy: 0.6295\n",
      "Epoch 20/20\n",
      "61/61 - 6s - loss: 1.4715 - sparse_categorical_accuracy: 0.5541 - top_2_sparce_accuracy: 0.6955 - val_loss: 1.6198 - val_sparse_categorical_accuracy: 0.4866 - val_top_2_sparce_accuracy: 0.6295\n"
     ]
    },
    {
     "data": {
      "application/javascript": [
       "\n",
       "            setTimeout(function() {\n",
       "                var nbb_cell_id = 193;\n",
       "                var nbb_formatted_code = \"history = model.fit(\\n    train_dataset,\\n    steps_per_epoch=train_dataset_steps,\\n    validation_data=validation_dataset,\\n    validation_steps=validation_dataset_steps,\\n    epochs=20,\\n    callbacks=[\\n        keras.callbacks.ReduceLROnPlateau(patience=1, factor=0.3),\\n        keras.callbacks.EarlyStopping(patience=3, restore_best_weights=True),\\n    ],\\n    class_weight=class_weights,\\n    verbose=2,\\n)\";\n",
       "                var nbb_cells = Jupyter.notebook.get_cells();\n",
       "                for (var i = 0; i < nbb_cells.length; ++i) {\n",
       "                    if (nbb_cells[i].input_prompt_number == nbb_cell_id) {\n",
       "                        nbb_cells[i].set_text(nbb_formatted_code);\n",
       "                        break;\n",
       "                    }\n",
       "                }\n",
       "            }, 500);\n",
       "            "
      ],
      "text/plain": [
       "<IPython.core.display.Javascript object>"
      ]
     },
     "metadata": {},
     "output_type": "display_data"
    }
   ],
   "source": [
    "history = model.fit(\n",
    "    train_dataset,\n",
    "    steps_per_epoch=train_dataset_steps,\n",
    "    validation_data=validation_dataset,\n",
    "    validation_steps=validation_dataset_steps,\n",
    "    epochs=20,\n",
    "    callbacks=[\n",
    "        keras.callbacks.ReduceLROnPlateau(patience=1, factor=0.3),\n",
    "        keras.callbacks.EarlyStopping(patience=3, restore_best_weights=True),\n",
    "    ],\n",
    "    class_weight=class_weights,\n",
    "    verbose=2,\n",
    ")"
   ]
  },
  {
   "cell_type": "code",
   "execution_count": 197,
   "metadata": {},
   "outputs": [
    {
     "data": {
      "image/png": "[encoded data removed]",
      "text/plain": [
       "<Figure size 432x288 with 1 Axes>"
      ]
     },
     "metadata": {
      "needs_background": "light"
     },
     "output_type": "display_data"
    },
    {
     "data": {
      "image/png": "[encoded data removed]",
      "text/plain": [
       "<Figure size 432x288 with 1 Axes>"
      ]
     },
     "metadata": {
      "needs_background": "light"
     },
     "output_type": "display_data"
    },
    {
     "data": {
      "application/javascript": [
       "\n",
       "            setTimeout(function() {\n",
       "                var nbb_cell_id = 197;\n",
       "                var nbb_formatted_code = \"show_history(history, contains=\\\"acc\\\")\\nshow_history(history, contains=\\\"loss\\\")\";\n",
       "                var nbb_cells = Jupyter.notebook.get_cells();\n",
       "                for (var i = 0; i < nbb_cells.length; ++i) {\n",
       "                    if (nbb_cells[i].input_prompt_number == nbb_cell_id) {\n",
       "                        nbb_cells[i].set_text(nbb_formatted_code);\n",
       "                        break;\n",
       "                    }\n",
       "                }\n",
       "            }, 500);\n",
       "            "
      ],
      "text/plain": [
       "<IPython.core.display.Javascript object>"
      ]
     },
     "metadata": {},
     "output_type": "display_data"
    }
   ],
   "source": [
    "show_history(history, contains=\"acc\")\n",
    "show_history(history, contains=\"loss\")"
   ]
  },
  {
   "cell_type": "markdown",
   "metadata": {},
   "source": [
    "### Finetuning"
   ]
  },
  {
   "cell_type": "code",
   "execution_count": 199,
   "metadata": {},
   "outputs": [
    {
     "data": {
      "application/javascript": [
       "\n",
       "            setTimeout(function() {\n",
       "                var nbb_cell_id = 199;\n",
       "                var nbb_formatted_code = \"for layer in model.layers:\\n    layer.trainable = True\";\n",
       "                var nbb_cells = Jupyter.notebook.get_cells();\n",
       "                for (var i = 0; i < nbb_cells.length; ++i) {\n",
       "                    if (nbb_cells[i].input_prompt_number == nbb_cell_id) {\n",
       "                        nbb_cells[i].set_text(nbb_formatted_code);\n",
       "                        break;\n",
       "                    }\n",
       "                }\n",
       "            }, 500);\n",
       "            "
      ],
      "text/plain": [
       "<IPython.core.display.Javascript object>"
      ]
     },
     "metadata": {},
     "output_type": "display_data"
    }
   ],
   "source": [
    "for layer in model.layers:\n",
    "    layer.trainable = True"
   ]
  },
  {
   "cell_type": "code",
   "execution_count": 204,
   "metadata": {},
   "outputs": [
    {
     "data": {
      "application/javascript": [
       "\n",
       "            setTimeout(function() {\n",
       "                var nbb_cell_id = 204;\n",
       "                var nbb_formatted_code = \"model.compile(\\n    loss=keras.losses.sparse_categorical_crossentropy,\\n    optimizer=keras.optimizers.Adam(lr=1e-4),\\n    metrics=[keras.metrics.sparse_categorical_accuracy, top_2_sparce_accuracy],\\n)\";\n",
       "                var nbb_cells = Jupyter.notebook.get_cells();\n",
       "                for (var i = 0; i < nbb_cells.length; ++i) {\n",
       "                    if (nbb_cells[i].input_prompt_number == nbb_cell_id) {\n",
       "                        nbb_cells[i].set_text(nbb_formatted_code);\n",
       "                        break;\n",
       "                    }\n",
       "                }\n",
       "            }, 500);\n",
       "            "
      ],
      "text/plain": [
       "<IPython.core.display.Javascript object>"
      ]
     },
     "metadata": {},
     "output_type": "display_data"
    }
   ],
   "source": [
    "model.compile(\n",
    "    loss=keras.losses.sparse_categorical_crossentropy,\n",
    "    optimizer=keras.optimizers.Adam(lr=1e-4),\n",
    "    metrics=[keras.metrics.sparse_categorical_accuracy, top_2_sparce_accuracy],\n",
    ")"
   ]
  },
  {
   "cell_type": "code",
   "execution_count": 205,
   "metadata": {},
   "outputs": [
    {
     "name": "stdout",
     "output_type": "stream",
     "text": [
      "Train for 61 steps, validate for 7 steps\n",
      "Epoch 1/10\n",
      "61/61 - 13s - loss: 1.4093 - sparse_categorical_accuracy: 0.5615 - top_2_sparce_accuracy: 0.7059 - val_loss: 1.5702 - val_sparse_categorical_accuracy: 0.5223 - val_top_2_sparce_accuracy: 0.6384\n",
      "Epoch 2/10\n",
      "61/61 - 6s - loss: 1.3855 - sparse_categorical_accuracy: 0.5720 - top_2_sparce_accuracy: 0.7207 - val_loss: 1.5673 - val_sparse_categorical_accuracy: 0.5223 - val_top_2_sparce_accuracy: 0.6384\n",
      "Epoch 3/10\n",
      "61/61 - 6s - loss: 1.3520 - sparse_categorical_accuracy: 0.5828 - top_2_sparce_accuracy: 0.7314 - val_loss: 1.5435 - val_sparse_categorical_accuracy: 0.5179 - val_top_2_sparce_accuracy: 0.6562\n",
      "Epoch 4/10\n",
      "61/61 - 6s - loss: 1.3381 - sparse_categorical_accuracy: 0.5900 - top_2_sparce_accuracy: 0.7330 - val_loss: 1.5396 - val_sparse_categorical_accuracy: 0.5312 - val_top_2_sparce_accuracy: 0.6473\n",
      "Epoch 5/10\n",
      "61/61 - 6s - loss: 1.3107 - sparse_categorical_accuracy: 0.5869 - top_2_sparce_accuracy: 0.7417 - val_loss: 1.5178 - val_sparse_categorical_accuracy: 0.5268 - val_top_2_sparce_accuracy: 0.6741\n",
      "Epoch 6/10\n",
      "61/61 - 6s - loss: 1.3126 - sparse_categorical_accuracy: 0.5925 - top_2_sparce_accuracy: 0.7504 - val_loss: 1.5214 - val_sparse_categorical_accuracy: 0.5312 - val_top_2_sparce_accuracy: 0.6607\n",
      "Epoch 7/10\n",
      "61/61 - 6s - loss: 1.2990 - sparse_categorical_accuracy: 0.6038 - top_2_sparce_accuracy: 0.7442 - val_loss: 1.5332 - val_sparse_categorical_accuracy: 0.5357 - val_top_2_sparce_accuracy: 0.6562\n",
      "Epoch 8/10\n",
      "61/61 - 6s - loss: 1.2717 - sparse_categorical_accuracy: 0.6048 - top_2_sparce_accuracy: 0.7504 - val_loss: 1.5195 - val_sparse_categorical_accuracy: 0.5402 - val_top_2_sparce_accuracy: 0.6607\n"
     ]
    },
    {
     "data": {
      "application/javascript": [
       "\n",
       "            setTimeout(function() {\n",
       "                var nbb_cell_id = 205;\n",
       "                var nbb_formatted_code = \"history = model.fit(\\n    train_dataset,\\n    steps_per_epoch=train_dataset_steps,\\n    validation_data=validation_dataset,\\n    validation_steps=validation_dataset_steps,\\n    epochs=10,\\n    callbacks=[\\n        keras.callbacks.ReduceLROnPlateau(patience=1, factor=0.3),\\n        keras.callbacks.EarlyStopping(patience=3, restore_best_weights=True),\\n    ],\\n    class_weight=class_weights,\\n    verbose=2,\\n)\";\n",
       "                var nbb_cells = Jupyter.notebook.get_cells();\n",
       "                for (var i = 0; i < nbb_cells.length; ++i) {\n",
       "                    if (nbb_cells[i].input_prompt_number == nbb_cell_id) {\n",
       "                        nbb_cells[i].set_text(nbb_formatted_code);\n",
       "                        break;\n",
       "                    }\n",
       "                }\n",
       "            }, 500);\n",
       "            "
      ],
      "text/plain": [
       "<IPython.core.display.Javascript object>"
      ]
     },
     "metadata": {},
     "output_type": "display_data"
    }
   ],
   "source": [
    "history = model.fit(\n",
    "    train_dataset,\n",
    "    steps_per_epoch=train_dataset_steps,\n",
    "    validation_data=validation_dataset,\n",
    "    validation_steps=validation_dataset_steps,\n",
    "    epochs=10,\n",
    "    callbacks=[\n",
    "        keras.callbacks.ReduceLROnPlateau(patience=1, factor=0.3),\n",
    "        keras.callbacks.EarlyStopping(patience=3, restore_best_weights=True),\n",
    "    ],\n",
    "    class_weight=class_weights,\n",
    "    verbose=2,\n",
    ")"
   ]
  },
  {
   "cell_type": "code",
   "execution_count": 206,
   "metadata": {},
   "outputs": [
    {
     "data": {
      "image/png": "[encoded data removed]",
      "text/plain": [
       "<Figure size 432x288 with 1 Axes>"
      ]
     },
     "metadata": {
      "needs_background": "light"
     },
     "output_type": "display_data"
    },
    {
     "data": {
      "image/png": "[encoded data removed]",
      "text/plain": [
       "<Figure size 432x288 with 1 Axes>"
      ]
     },
     "metadata": {
      "needs_background": "light"
     },
     "output_type": "display_data"
    },
    {
     "data": {
      "application/javascript": [
       "\n",
       "            setTimeout(function() {\n",
       "                var nbb_cell_id = 206;\n",
       "                var nbb_formatted_code = \"show_history(history, contains=\\\"acc\\\")\\nshow_history(history, contains=\\\"loss\\\")\";\n",
       "                var nbb_cells = Jupyter.notebook.get_cells();\n",
       "                for (var i = 0; i < nbb_cells.length; ++i) {\n",
       "                    if (nbb_cells[i].input_prompt_number == nbb_cell_id) {\n",
       "                        nbb_cells[i].set_text(nbb_formatted_code);\n",
       "                        break;\n",
       "                    }\n",
       "                }\n",
       "            }, 500);\n",
       "            "
      ],
      "text/plain": [
       "<IPython.core.display.Javascript object>"
      ]
     },
     "metadata": {},
     "output_type": "display_data"
    }
   ],
   "source": [
    "show_history(history, contains=\"acc\")\n",
    "show_history(history, contains=\"loss\")"
   ]
  },
  {
   "cell_type": "code",
   "execution_count": 207,
   "metadata": {},
   "outputs": [
    {
     "name": "stdout",
     "output_type": "stream",
     "text": [
      "7/7 [==============================] - 0s 40ms/step - loss: 1.5178 - sparse_categorical_accuracy: 0.5268 - top_2_sparce_accuracy: 0.6741\n"
     ]
    },
    {
     "data": {
      "text/plain": [
       "[1.5178279025214059, 0.52678573, 0.67410713]"
      ]
     },
     "execution_count": 207,
     "metadata": {},
     "output_type": "execute_result"
    },
    {
     "data": {
      "application/javascript": [
       "\n",
       "            setTimeout(function() {\n",
       "                var nbb_cell_id = 207;\n",
       "                var nbb_formatted_code = \"model.evaluate(validation_dataset, steps=validation_dataset_steps)\";\n",
       "                var nbb_cells = Jupyter.notebook.get_cells();\n",
       "                for (var i = 0; i < nbb_cells.length; ++i) {\n",
       "                    if (nbb_cells[i].input_prompt_number == nbb_cell_id) {\n",
       "                        nbb_cells[i].set_text(nbb_formatted_code);\n",
       "                        break;\n",
       "                    }\n",
       "                }\n",
       "            }, 500);\n",
       "            "
      ],
      "text/plain": [
       "<IPython.core.display.Javascript object>"
      ]
     },
     "metadata": {},
     "output_type": "display_data"
    }
   ],
   "source": [
    "model.evaluate(validation_dataset, steps=validation_dataset_steps)"
   ]
  },
  {
   "cell_type": "code",
   "execution_count": 208,
   "metadata": {},
   "outputs": [
    {
     "name": "stdout",
     "output_type": "stream",
     "text": [
      "              precision    recall  f1-score   support\n",
      "\n",
      "           0       0.50      0.11      0.18         9\n",
      "           1       0.12      0.12      0.12        17\n",
      "           2       0.00      0.00      0.00         9\n",
      "           3       1.00      0.90      0.95        20\n",
      "           4       0.48      0.82      0.61        74\n",
      "           5       0.89      1.00      0.94         8\n",
      "           6       0.91      0.91      0.91        11\n",
      "           7       1.00      1.00      1.00        13\n",
      "           8       0.00      0.00      0.00         8\n",
      "           9       0.00      0.00      0.00        10\n",
      "          10       0.00      0.00      0.00        10\n",
      "          11       0.00      0.00      0.00         9\n",
      "          12       0.25      0.50      0.33         6\n",
      "          13       0.50      0.58      0.54        12\n",
      "          14       0.17      0.11      0.13         9\n",
      "          15       1.00      0.14      0.25         7\n",
      "          16       0.24      0.25      0.24        16\n",
      "\n",
      "    accuracy                           0.52       248\n",
      "   macro avg       0.42      0.38      0.37       248\n",
      "weighted avg       0.45      0.52      0.46       248\n",
      "\n"
     ]
    },
    {
     "name": "stderr",
     "output_type": "stream",
     "text": [
      "/home/martynas/ml/.venv/lib/python3.6/site-packages/sklearn/metrics/classification.py:1437: UndefinedMetricWarning: Precision and F-score are ill-defined and being set to 0.0 in labels with no predicted samples.\n",
      "  'precision', 'predicted', average, warn_for)\n"
     ]
    },
    {
     "data": {
      "application/javascript": [
       "\n",
       "            setTimeout(function() {\n",
       "                var nbb_cell_id = 208;\n",
       "                var nbb_formatted_code = \"print(\\n    classification_report(\\n        data_container.validation.y, model.predict(validation_dataset).argmax(axis=1)\\n    )\\n)\";\n",
       "                var nbb_cells = Jupyter.notebook.get_cells();\n",
       "                for (var i = 0; i < nbb_cells.length; ++i) {\n",
       "                    if (nbb_cells[i].input_prompt_number == nbb_cell_id) {\n",
       "                        nbb_cells[i].set_text(nbb_formatted_code);\n",
       "                        break;\n",
       "                    }\n",
       "                }\n",
       "            }, 500);\n",
       "            "
      ],
      "text/plain": [
       "<IPython.core.display.Javascript object>"
      ]
     },
     "metadata": {},
     "output_type": "display_data"
    }
   ],
   "source": [
    "print(\n",
    "    classification_report(\n",
    "        data_container.validation.y, model.predict(validation_dataset).argmax(axis=1)\n",
    "    )\n",
    ")"
   ]
  },
  {
   "cell_type": "code",
   "execution_count": null,
   "metadata": {},
   "outputs": [],
   "source": []
  }
 ],
 "metadata": {
  "kernelspec": {
   "display_name": ".venv",
   "language": "python",
   "name": ".venv"
  },
  "language_info": {
   "codemirror_mode": {
    "name": "ipython",
    "version": 3
   },
   "file_extension": ".py",
   "mimetype": "text/x-python",
   "name": "python",
   "nbconvert_exporter": "python",
   "pygments_lexer": "ipython3",
   "version": "3.6.8"
  }
 },
 "nbformat": 4,
 "nbformat_minor": 4
}
